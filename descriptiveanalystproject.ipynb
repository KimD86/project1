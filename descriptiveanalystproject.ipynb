{
  "nbformat": 4,
  "nbformat_minor": 0,
  "metadata": {
    "colab": {
      "provenance": [],
      "mount_file_id": "1sMOaExu41Ghw4blmTEMwCu6U0nDWD957",
      "authorship_tag": "ABX9TyMfZ/iSbdikNu9GvnpVfNfs",
      "include_colab_link": true
    },
    "kernelspec": {
      "name": "python3",
      "display_name": "Python 3"
    },
    "language_info": {
      "name": "python"
    }
  },
  "cells": [
    {
      "cell_type": "markdown",
      "metadata": {
        "id": "view-in-github",
        "colab_type": "text"
      },
      "source": [
        "<a href=\"https://colab.research.google.com/github/KimD86/project1/blob/main/descriptiveanalystproject.ipynb\" target=\"_parent\"><img src=\"https://colab.research.google.com/assets/colab-badge.svg\" alt=\"Open In Colab\"/></a>"
      ]
    },
    {
      "cell_type": "markdown",
      "source": [
        "**Descriptive Analytics Project: Crime Analysis for North East England**"
      ],
      "metadata": {
        "id": "dIY9us6-xy38"
      }
    },
    {
      "cell_type": "markdown",
      "source": [
        "**Project Objective:**\n",
        "To analyse crime data across a North East area specifically the Durham constabulary area to identify trends, patterns, and hotspots. The goal is to understand the distribution and frequency of various types of crimes, identify high-risk areas, and provide insights that can assist in crime prevention and resource allocation."
      ],
      "metadata": {
        "id": "NYzhQS75yGCL"
      }
    },
    {
      "cell_type": "code",
      "execution_count": 1,
      "metadata": {
        "colab": {
          "base_uri": "https://localhost:8080/"
        },
        "collapsed": true,
        "id": "vPMdjNOgwXg7",
        "outputId": "201f7c54-9cae-44c0-f4ad-1408938e85a0"
      },
      "outputs": [
        {
          "output_type": "stream",
          "name": "stdout",
          "text": [
            "Requirement already satisfied: pandas in /usr/local/lib/python3.10/dist-packages (2.2.2)\n",
            "Requirement already satisfied: matplotlib in /usr/local/lib/python3.10/dist-packages (3.7.1)\n",
            "Requirement already satisfied: numpy>=1.22.4 in /usr/local/lib/python3.10/dist-packages (from pandas) (1.26.4)\n",
            "Requirement already satisfied: python-dateutil>=2.8.2 in /usr/local/lib/python3.10/dist-packages (from pandas) (2.8.2)\n",
            "Requirement already satisfied: pytz>=2020.1 in /usr/local/lib/python3.10/dist-packages (from pandas) (2024.2)\n",
            "Requirement already satisfied: tzdata>=2022.7 in /usr/local/lib/python3.10/dist-packages (from pandas) (2024.2)\n",
            "Requirement already satisfied: contourpy>=1.0.1 in /usr/local/lib/python3.10/dist-packages (from matplotlib) (1.3.0)\n",
            "Requirement already satisfied: cycler>=0.10 in /usr/local/lib/python3.10/dist-packages (from matplotlib) (0.12.1)\n",
            "Requirement already satisfied: fonttools>=4.22.0 in /usr/local/lib/python3.10/dist-packages (from matplotlib) (4.54.1)\n",
            "Requirement already satisfied: kiwisolver>=1.0.1 in /usr/local/lib/python3.10/dist-packages (from matplotlib) (1.4.7)\n",
            "Requirement already satisfied: packaging>=20.0 in /usr/local/lib/python3.10/dist-packages (from matplotlib) (24.1)\n",
            "Requirement already satisfied: pillow>=6.2.0 in /usr/local/lib/python3.10/dist-packages (from matplotlib) (10.4.0)\n",
            "Requirement already satisfied: pyparsing>=2.3.1 in /usr/local/lib/python3.10/dist-packages (from matplotlib) (3.2.0)\n",
            "Requirement already satisfied: six>=1.5 in /usr/local/lib/python3.10/dist-packages (from python-dateutil>=2.8.2->pandas) (1.16.0)\n"
          ]
        }
      ],
      "source": [
        "pip install pandas matplotlib"
      ]
    },
    {
      "cell_type": "code",
      "source": [
        "import pandas as pd"
      ],
      "metadata": {
        "id": "P0N7w9zCw6z6"
      },
      "execution_count": 2,
      "outputs": []
    },
    {
      "cell_type": "code",
      "source": [
        "import matplotlib.pyplot as plt\n",
        "import seaborn as sns\n",
        "import folium\n",
        "from folium import plugins"
      ],
      "metadata": {
        "id": "OBLZUuM20ne0"
      },
      "execution_count": 3,
      "outputs": []
    },
    {
      "cell_type": "code",
      "source": [
        "from folium.plugins import HeatMap\n",
        "from folium.plugins import MarkerCluster\n",
        "from folium.plugins import MeasureControl\n",
        "import numpy as np"
      ],
      "metadata": {
        "id": "cSxLh-Ax0t8U"
      },
      "execution_count": 4,
      "outputs": []
    },
    {
      "cell_type": "markdown",
      "source": [
        "Project Scope:\n",
        "\n",
        "Time Period: Analysis of the last five years of crime data.\n",
        "\n",
        "Geography: Focus on all neighborhoods within the Durham area.\n",
        "\n",
        "Crime Categories: Analyse all reported crime types, with a focus on violent crimes (e.g.,assaults, robberies) and property crimes (e.g., burglaries, thefts).\n"
      ],
      "metadata": {
        "id": "Q9lsW0eNEdEs"
      }
    },
    {
      "cell_type": "code",
      "source": [
        "df_crime_july_2021=pd.read_csv('/content/drive/MyDrive/Project/d20ba0d324c43c5933d91d4362ea93f7b8174614/2021-07/2021-07-durham-street.csv')"
      ],
      "metadata": {
        "id": "V8OIPlFQfAZ2"
      },
      "execution_count": 5,
      "outputs": []
    },
    {
      "cell_type": "code",
      "source": [
        "df_crime_august_2021=pd.read_csv('/content/drive/MyDrive/Project/d20ba0d324c43c5933d91d4362ea93f7b8174614/2021-08/2021-08-durham-street.csv')"
      ],
      "metadata": {
        "id": "GxV5GygN49Zl"
      },
      "execution_count": 6,
      "outputs": []
    },
    {
      "cell_type": "code",
      "source": [
        "df_crime_september_2021=pd.read_csv('/content/drive/MyDrive/Project/d20ba0d324c43c5933d91d4362ea93f7b8174614/2021-09/2021-09-durham-street.csv')"
      ],
      "metadata": {
        "id": "GaKRySMc5LwW"
      },
      "execution_count": 7,
      "outputs": []
    },
    {
      "cell_type": "code",
      "source": [
        "df_crime_october_2021=pd.read_csv('/content/drive/MyDrive/Project/d20ba0d324c43c5933d91d4362ea93f7b8174614/2021-10/2021-10-durham-street.csv')"
      ],
      "metadata": {
        "id": "Zk6PQB0R5XVd"
      },
      "execution_count": 8,
      "outputs": []
    },
    {
      "cell_type": "code",
      "source": [
        "df_crime_november_2021=pd.read_csv('/content/drive/MyDrive/Project/d20ba0d324c43c5933d91d4362ea93f7b8174614/2021-11/2021-11-durham-street.csv')"
      ],
      "metadata": {
        "id": "AF7dkaOp5hJZ"
      },
      "execution_count": 9,
      "outputs": []
    },
    {
      "cell_type": "code",
      "source": [
        "df_crime_december_2021=pd.read_csv('/content/drive/MyDrive/Project/d20ba0d324c43c5933d91d4362ea93f7b8174614/2021-12/2021-12-durham-street.csv')"
      ],
      "metadata": {
        "id": "mnfql1Rb5rrI"
      },
      "execution_count": 10,
      "outputs": []
    },
    {
      "cell_type": "code",
      "source": [
        "df_allcrime_2021=pd.concat([df_crime_july_2021, df_crime_august_2021, df_crime_september_2021, df_crime_october_2021, df_crime_november_2021, df_crime_december_2021])"
      ],
      "metadata": {
        "id": "FYfk0PqL6G84"
      },
      "execution_count": 11,
      "outputs": []
    },
    {
      "cell_type": "code",
      "source": [
        "df_allcrime_2021.sample(8)"
      ],
      "metadata": {
        "colab": {
          "base_uri": "https://localhost:8080/",
          "height": 702
        },
        "id": "cBDCOcuL6k9c",
        "outputId": "1efda393-1dea-48d6-d5c7-21f732e092b6"
      },
      "execution_count": 12,
      "outputs": [
        {
          "output_type": "execute_result",
          "data": {
            "text/plain": [
              "                                               Crime ID    Month  \\\n",
              "4927                                                NaN  2021-12   \n",
              "4294  7fc52efcfa9b24af3a501755dbb4edbf507f0617547310...  2021-12   \n",
              "3101  302d7acab0cab0b102d6f64e32f000c92d644601d944d7...  2021-11   \n",
              "1798  b4c4e6c345148b78343c55b7fcc7e20f442511fb66ed8d...  2021-12   \n",
              "4834  ce5cc90dd93d84947f731994e548b87b93111e2acbde15...  2021-08   \n",
              "4075  2c4d409f7f4c4bc10ef8e249005d9c31e94bba259e2313...  2021-10   \n",
              "2290  01af33f1fd98078179863eb7f319ee39adf54576aca84d...  2021-09   \n",
              "1055  12cd4a7873d22a48ebf1778939d92c8662cf245915b925...  2021-08   \n",
              "\n",
              "              Reported by         Falls within  Longitude   Latitude  \\\n",
              "4927  Durham Constabulary  Durham Constabulary  -1.522026  54.545018   \n",
              "4294  Durham Constabulary  Durham Constabulary  -1.652115  54.632787   \n",
              "3101  Durham Constabulary  Durham Constabulary  -1.517711  54.737723   \n",
              "1798  Durham Constabulary  Durham Constabulary  -1.549248  54.776127   \n",
              "4834  Durham Constabulary  Durham Constabulary  -1.591419  54.617482   \n",
              "4075  Durham Constabulary  Durham Constabulary  -1.602368  54.698390   \n",
              "2290  Durham Constabulary  Durham Constabulary  -1.648139  54.766722   \n",
              "1055  Durham Constabulary  Durham Constabulary  -1.372548  54.836649   \n",
              "\n",
              "                               Location  LSOA code           LSOA name  \\\n",
              "4927       On or near Sunningdale Green  E01012329     Darlington 003B   \n",
              "4294          On or near Maughan Street  E01020801  County Durham 059A   \n",
              "3101  On or near Sports/Recreation Area  E01020697  County Durham 041C   \n",
              "1798           On or near Laurel Avenue  E01020724  County Durham 029D   \n",
              "4834        On or near Whinlatter Place  E01020844  County Durham 061B   \n",
              "4075           On or near Silver Street  E01020836  County Durham 052E   \n",
              "2290              On or near Doric Road  E01020715  County Durham 031C   \n",
              "1055      On or near Warkworth Crescent  E01020787  County Durham 016E   \n",
              "\n",
              "                        Crime type  \\\n",
              "4927         Anti-social behaviour   \n",
              "4294                 Vehicle crime   \n",
              "3101                         Drugs   \n",
              "1798     Criminal damage and arson   \n",
              "4834  Violence and sexual offences   \n",
              "4075     Criminal damage and arson   \n",
              "2290     Criminal damage and arson   \n",
              "1055                   Other crime   \n",
              "\n",
              "                              Last outcome category  Context  \n",
              "4927                                            NaN      NaN  \n",
              "4294                       Court result unavailable      NaN  \n",
              "3101                       Court result unavailable      NaN  \n",
              "1798                      Status update unavailable      NaN  \n",
              "4834                    Unable to prosecute suspect      NaN  \n",
              "4075  Investigation complete; no suspect identified      NaN  \n",
              "2290                    Unable to prosecute suspect      NaN  \n",
              "1055                      Status update unavailable      NaN  "
            ],
            "text/html": [
              "\n",
              "  <div id=\"df-65b34e50-03b8-4b55-96ce-0ebcb4fef16a\" class=\"colab-df-container\">\n",
              "    <div>\n",
              "<style scoped>\n",
              "    .dataframe tbody tr th:only-of-type {\n",
              "        vertical-align: middle;\n",
              "    }\n",
              "\n",
              "    .dataframe tbody tr th {\n",
              "        vertical-align: top;\n",
              "    }\n",
              "\n",
              "    .dataframe thead th {\n",
              "        text-align: right;\n",
              "    }\n",
              "</style>\n",
              "<table border=\"1\" class=\"dataframe\">\n",
              "  <thead>\n",
              "    <tr style=\"text-align: right;\">\n",
              "      <th></th>\n",
              "      <th>Crime ID</th>\n",
              "      <th>Month</th>\n",
              "      <th>Reported by</th>\n",
              "      <th>Falls within</th>\n",
              "      <th>Longitude</th>\n",
              "      <th>Latitude</th>\n",
              "      <th>Location</th>\n",
              "      <th>LSOA code</th>\n",
              "      <th>LSOA name</th>\n",
              "      <th>Crime type</th>\n",
              "      <th>Last outcome category</th>\n",
              "      <th>Context</th>\n",
              "    </tr>\n",
              "  </thead>\n",
              "  <tbody>\n",
              "    <tr>\n",
              "      <th>4927</th>\n",
              "      <td>NaN</td>\n",
              "      <td>2021-12</td>\n",
              "      <td>Durham Constabulary</td>\n",
              "      <td>Durham Constabulary</td>\n",
              "      <td>-1.522026</td>\n",
              "      <td>54.545018</td>\n",
              "      <td>On or near Sunningdale Green</td>\n",
              "      <td>E01012329</td>\n",
              "      <td>Darlington 003B</td>\n",
              "      <td>Anti-social behaviour</td>\n",
              "      <td>NaN</td>\n",
              "      <td>NaN</td>\n",
              "    </tr>\n",
              "    <tr>\n",
              "      <th>4294</th>\n",
              "      <td>7fc52efcfa9b24af3a501755dbb4edbf507f0617547310...</td>\n",
              "      <td>2021-12</td>\n",
              "      <td>Durham Constabulary</td>\n",
              "      <td>Durham Constabulary</td>\n",
              "      <td>-1.652115</td>\n",
              "      <td>54.632787</td>\n",
              "      <td>On or near Maughan Street</td>\n",
              "      <td>E01020801</td>\n",
              "      <td>County Durham 059A</td>\n",
              "      <td>Vehicle crime</td>\n",
              "      <td>Court result unavailable</td>\n",
              "      <td>NaN</td>\n",
              "    </tr>\n",
              "    <tr>\n",
              "      <th>3101</th>\n",
              "      <td>302d7acab0cab0b102d6f64e32f000c92d644601d944d7...</td>\n",
              "      <td>2021-11</td>\n",
              "      <td>Durham Constabulary</td>\n",
              "      <td>Durham Constabulary</td>\n",
              "      <td>-1.517711</td>\n",
              "      <td>54.737723</td>\n",
              "      <td>On or near Sports/Recreation Area</td>\n",
              "      <td>E01020697</td>\n",
              "      <td>County Durham 041C</td>\n",
              "      <td>Drugs</td>\n",
              "      <td>Court result unavailable</td>\n",
              "      <td>NaN</td>\n",
              "    </tr>\n",
              "    <tr>\n",
              "      <th>1798</th>\n",
              "      <td>b4c4e6c345148b78343c55b7fcc7e20f442511fb66ed8d...</td>\n",
              "      <td>2021-12</td>\n",
              "      <td>Durham Constabulary</td>\n",
              "      <td>Durham Constabulary</td>\n",
              "      <td>-1.549248</td>\n",
              "      <td>54.776127</td>\n",
              "      <td>On or near Laurel Avenue</td>\n",
              "      <td>E01020724</td>\n",
              "      <td>County Durham 029D</td>\n",
              "      <td>Criminal damage and arson</td>\n",
              "      <td>Status update unavailable</td>\n",
              "      <td>NaN</td>\n",
              "    </tr>\n",
              "    <tr>\n",
              "      <th>4834</th>\n",
              "      <td>ce5cc90dd93d84947f731994e548b87b93111e2acbde15...</td>\n",
              "      <td>2021-08</td>\n",
              "      <td>Durham Constabulary</td>\n",
              "      <td>Durham Constabulary</td>\n",
              "      <td>-1.591419</td>\n",
              "      <td>54.617482</td>\n",
              "      <td>On or near Whinlatter Place</td>\n",
              "      <td>E01020844</td>\n",
              "      <td>County Durham 061B</td>\n",
              "      <td>Violence and sexual offences</td>\n",
              "      <td>Unable to prosecute suspect</td>\n",
              "      <td>NaN</td>\n",
              "    </tr>\n",
              "    <tr>\n",
              "      <th>4075</th>\n",
              "      <td>2c4d409f7f4c4bc10ef8e249005d9c31e94bba259e2313...</td>\n",
              "      <td>2021-10</td>\n",
              "      <td>Durham Constabulary</td>\n",
              "      <td>Durham Constabulary</td>\n",
              "      <td>-1.602368</td>\n",
              "      <td>54.698390</td>\n",
              "      <td>On or near Silver Street</td>\n",
              "      <td>E01020836</td>\n",
              "      <td>County Durham 052E</td>\n",
              "      <td>Criminal damage and arson</td>\n",
              "      <td>Investigation complete; no suspect identified</td>\n",
              "      <td>NaN</td>\n",
              "    </tr>\n",
              "    <tr>\n",
              "      <th>2290</th>\n",
              "      <td>01af33f1fd98078179863eb7f319ee39adf54576aca84d...</td>\n",
              "      <td>2021-09</td>\n",
              "      <td>Durham Constabulary</td>\n",
              "      <td>Durham Constabulary</td>\n",
              "      <td>-1.648139</td>\n",
              "      <td>54.766722</td>\n",
              "      <td>On or near Doric Road</td>\n",
              "      <td>E01020715</td>\n",
              "      <td>County Durham 031C</td>\n",
              "      <td>Criminal damage and arson</td>\n",
              "      <td>Unable to prosecute suspect</td>\n",
              "      <td>NaN</td>\n",
              "    </tr>\n",
              "    <tr>\n",
              "      <th>1055</th>\n",
              "      <td>12cd4a7873d22a48ebf1778939d92c8662cf245915b925...</td>\n",
              "      <td>2021-08</td>\n",
              "      <td>Durham Constabulary</td>\n",
              "      <td>Durham Constabulary</td>\n",
              "      <td>-1.372548</td>\n",
              "      <td>54.836649</td>\n",
              "      <td>On or near Warkworth Crescent</td>\n",
              "      <td>E01020787</td>\n",
              "      <td>County Durham 016E</td>\n",
              "      <td>Other crime</td>\n",
              "      <td>Status update unavailable</td>\n",
              "      <td>NaN</td>\n",
              "    </tr>\n",
              "  </tbody>\n",
              "</table>\n",
              "</div>\n",
              "    <div class=\"colab-df-buttons\">\n",
              "\n",
              "  <div class=\"colab-df-container\">\n",
              "    <button class=\"colab-df-convert\" onclick=\"convertToInteractive('df-65b34e50-03b8-4b55-96ce-0ebcb4fef16a')\"\n",
              "            title=\"Convert this dataframe to an interactive table.\"\n",
              "            style=\"display:none;\">\n",
              "\n",
              "  <svg xmlns=\"http://www.w3.org/2000/svg\" height=\"24px\" viewBox=\"0 -960 960 960\">\n",
              "    <path d=\"M120-120v-720h720v720H120Zm60-500h600v-160H180v160Zm220 220h160v-160H400v160Zm0 220h160v-160H400v160ZM180-400h160v-160H180v160Zm440 0h160v-160H620v160ZM180-180h160v-160H180v160Zm440 0h160v-160H620v160Z\"/>\n",
              "  </svg>\n",
              "    </button>\n",
              "\n",
              "  <style>\n",
              "    .colab-df-container {\n",
              "      display:flex;\n",
              "      gap: 12px;\n",
              "    }\n",
              "\n",
              "    .colab-df-convert {\n",
              "      background-color: #E8F0FE;\n",
              "      border: none;\n",
              "      border-radius: 50%;\n",
              "      cursor: pointer;\n",
              "      display: none;\n",
              "      fill: #1967D2;\n",
              "      height: 32px;\n",
              "      padding: 0 0 0 0;\n",
              "      width: 32px;\n",
              "    }\n",
              "\n",
              "    .colab-df-convert:hover {\n",
              "      background-color: #E2EBFA;\n",
              "      box-shadow: 0px 1px 2px rgba(60, 64, 67, 0.3), 0px 1px 3px 1px rgba(60, 64, 67, 0.15);\n",
              "      fill: #174EA6;\n",
              "    }\n",
              "\n",
              "    .colab-df-buttons div {\n",
              "      margin-bottom: 4px;\n",
              "    }\n",
              "\n",
              "    [theme=dark] .colab-df-convert {\n",
              "      background-color: #3B4455;\n",
              "      fill: #D2E3FC;\n",
              "    }\n",
              "\n",
              "    [theme=dark] .colab-df-convert:hover {\n",
              "      background-color: #434B5C;\n",
              "      box-shadow: 0px 1px 3px 1px rgba(0, 0, 0, 0.15);\n",
              "      filter: drop-shadow(0px 1px 2px rgba(0, 0, 0, 0.3));\n",
              "      fill: #FFFFFF;\n",
              "    }\n",
              "  </style>\n",
              "\n",
              "    <script>\n",
              "      const buttonEl =\n",
              "        document.querySelector('#df-65b34e50-03b8-4b55-96ce-0ebcb4fef16a button.colab-df-convert');\n",
              "      buttonEl.style.display =\n",
              "        google.colab.kernel.accessAllowed ? 'block' : 'none';\n",
              "\n",
              "      async function convertToInteractive(key) {\n",
              "        const element = document.querySelector('#df-65b34e50-03b8-4b55-96ce-0ebcb4fef16a');\n",
              "        const dataTable =\n",
              "          await google.colab.kernel.invokeFunction('convertToInteractive',\n",
              "                                                    [key], {});\n",
              "        if (!dataTable) return;\n",
              "\n",
              "        const docLinkHtml = 'Like what you see? Visit the ' +\n",
              "          '<a target=\"_blank\" href=https://colab.research.google.com/notebooks/data_table.ipynb>data table notebook</a>'\n",
              "          + ' to learn more about interactive tables.';\n",
              "        element.innerHTML = '';\n",
              "        dataTable['output_type'] = 'display_data';\n",
              "        await google.colab.output.renderOutput(dataTable, element);\n",
              "        const docLink = document.createElement('div');\n",
              "        docLink.innerHTML = docLinkHtml;\n",
              "        element.appendChild(docLink);\n",
              "      }\n",
              "    </script>\n",
              "  </div>\n",
              "\n",
              "\n",
              "<div id=\"df-bafa17dd-1717-4f28-88f8-20a3050b58ca\">\n",
              "  <button class=\"colab-df-quickchart\" onclick=\"quickchart('df-bafa17dd-1717-4f28-88f8-20a3050b58ca')\"\n",
              "            title=\"Suggest charts\"\n",
              "            style=\"display:none;\">\n",
              "\n",
              "<svg xmlns=\"http://www.w3.org/2000/svg\" height=\"24px\"viewBox=\"0 0 24 24\"\n",
              "     width=\"24px\">\n",
              "    <g>\n",
              "        <path d=\"M19 3H5c-1.1 0-2 .9-2 2v14c0 1.1.9 2 2 2h14c1.1 0 2-.9 2-2V5c0-1.1-.9-2-2-2zM9 17H7v-7h2v7zm4 0h-2V7h2v10zm4 0h-2v-4h2v4z\"/>\n",
              "    </g>\n",
              "</svg>\n",
              "  </button>\n",
              "\n",
              "<style>\n",
              "  .colab-df-quickchart {\n",
              "      --bg-color: #E8F0FE;\n",
              "      --fill-color: #1967D2;\n",
              "      --hover-bg-color: #E2EBFA;\n",
              "      --hover-fill-color: #174EA6;\n",
              "      --disabled-fill-color: #AAA;\n",
              "      --disabled-bg-color: #DDD;\n",
              "  }\n",
              "\n",
              "  [theme=dark] .colab-df-quickchart {\n",
              "      --bg-color: #3B4455;\n",
              "      --fill-color: #D2E3FC;\n",
              "      --hover-bg-color: #434B5C;\n",
              "      --hover-fill-color: #FFFFFF;\n",
              "      --disabled-bg-color: #3B4455;\n",
              "      --disabled-fill-color: #666;\n",
              "  }\n",
              "\n",
              "  .colab-df-quickchart {\n",
              "    background-color: var(--bg-color);\n",
              "    border: none;\n",
              "    border-radius: 50%;\n",
              "    cursor: pointer;\n",
              "    display: none;\n",
              "    fill: var(--fill-color);\n",
              "    height: 32px;\n",
              "    padding: 0;\n",
              "    width: 32px;\n",
              "  }\n",
              "\n",
              "  .colab-df-quickchart:hover {\n",
              "    background-color: var(--hover-bg-color);\n",
              "    box-shadow: 0 1px 2px rgba(60, 64, 67, 0.3), 0 1px 3px 1px rgba(60, 64, 67, 0.15);\n",
              "    fill: var(--button-hover-fill-color);\n",
              "  }\n",
              "\n",
              "  .colab-df-quickchart-complete:disabled,\n",
              "  .colab-df-quickchart-complete:disabled:hover {\n",
              "    background-color: var(--disabled-bg-color);\n",
              "    fill: var(--disabled-fill-color);\n",
              "    box-shadow: none;\n",
              "  }\n",
              "\n",
              "  .colab-df-spinner {\n",
              "    border: 2px solid var(--fill-color);\n",
              "    border-color: transparent;\n",
              "    border-bottom-color: var(--fill-color);\n",
              "    animation:\n",
              "      spin 1s steps(1) infinite;\n",
              "  }\n",
              "\n",
              "  @keyframes spin {\n",
              "    0% {\n",
              "      border-color: transparent;\n",
              "      border-bottom-color: var(--fill-color);\n",
              "      border-left-color: var(--fill-color);\n",
              "    }\n",
              "    20% {\n",
              "      border-color: transparent;\n",
              "      border-left-color: var(--fill-color);\n",
              "      border-top-color: var(--fill-color);\n",
              "    }\n",
              "    30% {\n",
              "      border-color: transparent;\n",
              "      border-left-color: var(--fill-color);\n",
              "      border-top-color: var(--fill-color);\n",
              "      border-right-color: var(--fill-color);\n",
              "    }\n",
              "    40% {\n",
              "      border-color: transparent;\n",
              "      border-right-color: var(--fill-color);\n",
              "      border-top-color: var(--fill-color);\n",
              "    }\n",
              "    60% {\n",
              "      border-color: transparent;\n",
              "      border-right-color: var(--fill-color);\n",
              "    }\n",
              "    80% {\n",
              "      border-color: transparent;\n",
              "      border-right-color: var(--fill-color);\n",
              "      border-bottom-color: var(--fill-color);\n",
              "    }\n",
              "    90% {\n",
              "      border-color: transparent;\n",
              "      border-bottom-color: var(--fill-color);\n",
              "    }\n",
              "  }\n",
              "</style>\n",
              "\n",
              "  <script>\n",
              "    async function quickchart(key) {\n",
              "      const quickchartButtonEl =\n",
              "        document.querySelector('#' + key + ' button');\n",
              "      quickchartButtonEl.disabled = true;  // To prevent multiple clicks.\n",
              "      quickchartButtonEl.classList.add('colab-df-spinner');\n",
              "      try {\n",
              "        const charts = await google.colab.kernel.invokeFunction(\n",
              "            'suggestCharts', [key], {});\n",
              "      } catch (error) {\n",
              "        console.error('Error during call to suggestCharts:', error);\n",
              "      }\n",
              "      quickchartButtonEl.classList.remove('colab-df-spinner');\n",
              "      quickchartButtonEl.classList.add('colab-df-quickchart-complete');\n",
              "    }\n",
              "    (() => {\n",
              "      let quickchartButtonEl =\n",
              "        document.querySelector('#df-bafa17dd-1717-4f28-88f8-20a3050b58ca button');\n",
              "      quickchartButtonEl.style.display =\n",
              "        google.colab.kernel.accessAllowed ? 'block' : 'none';\n",
              "    })();\n",
              "  </script>\n",
              "</div>\n",
              "\n",
              "    </div>\n",
              "  </div>\n"
            ],
            "application/vnd.google.colaboratory.intrinsic+json": {
              "type": "dataframe",
              "repr_error": "0"
            }
          },
          "metadata": {},
          "execution_count": 12
        }
      ]
    },
    {
      "cell_type": "code",
      "source": [
        "df_crime_january_2022=pd.read_csv('/content/drive/MyDrive/Project/d20ba0d324c43c5933d91d4362ea93f7b8174614/2022-01/2022-01-durham-street.csv')"
      ],
      "metadata": {
        "id": "0BgJm8wj-Y4q"
      },
      "execution_count": 13,
      "outputs": []
    },
    {
      "cell_type": "code",
      "source": [
        "df_crime_february_2022=pd.read_csv('/content/drive/MyDrive/Project/d20ba0d324c43c5933d91d4362ea93f7b8174614/2022-02/2022-02-durham-street.csv')"
      ],
      "metadata": {
        "id": "T5WEFNdx-mSz"
      },
      "execution_count": 14,
      "outputs": []
    },
    {
      "cell_type": "code",
      "source": [
        "df_crime_march_2022=pd.read_csv('/content/drive/MyDrive/Project/d20ba0d324c43c5933d91d4362ea93f7b8174614/2022-03/2022-03-durham-street.csv')"
      ],
      "metadata": {
        "id": "fesvksjF-vLB"
      },
      "execution_count": 15,
      "outputs": []
    },
    {
      "cell_type": "code",
      "source": [
        "df_crime_april_2022=pd.read_csv('/content/drive/MyDrive/Project/d20ba0d324c43c5933d91d4362ea93f7b8174614/2022-04/2022-04-durham-street.csv')"
      ],
      "metadata": {
        "id": "FRPdxP6m-1WK"
      },
      "execution_count": 16,
      "outputs": []
    },
    {
      "cell_type": "code",
      "source": [
        "df_crime_may_2022=pd.read_csv('/content/drive/MyDrive/Project/d20ba0d324c43c5933d91d4362ea93f7b8174614/2022-05/2022-05-durham-street.csv')"
      ],
      "metadata": {
        "id": "AwLgQXz1_Jfl"
      },
      "execution_count": 17,
      "outputs": []
    },
    {
      "cell_type": "code",
      "source": [
        "df_crime_june_2022=pd.read_csv('/content/drive/MyDrive/Project/d20ba0d324c43c5933d91d4362ea93f7b8174614/2022-06/2022-06-durham-street.csv')"
      ],
      "metadata": {
        "id": "x7ECqkXo_SsU"
      },
      "execution_count": 18,
      "outputs": []
    },
    {
      "cell_type": "code",
      "source": [
        "df_crime_july_2022=pd.read_csv('/content/drive/MyDrive/Project/d20ba0d324c43c5933d91d4362ea93f7b8174614/2022-07/2022-07-durham-street.csv')"
      ],
      "metadata": {
        "id": "4o2CfQ-0_Zj3"
      },
      "execution_count": 19,
      "outputs": []
    },
    {
      "cell_type": "code",
      "source": [
        "df_crime_august_2022=pd.read_csv('/content/drive/MyDrive/Project/d20ba0d324c43c5933d91d4362ea93f7b8174614/2022-08/2022-08-durham-street.csv')"
      ],
      "metadata": {
        "id": "ZeSqdQm5_gwo"
      },
      "execution_count": 20,
      "outputs": []
    },
    {
      "cell_type": "code",
      "source": [
        "df_crime_september_2022=pd.read_csv('/content/drive/MyDrive/Project/d20ba0d324c43c5933d91d4362ea93f7b8174614/2022-09/2022-09-durham-street.csv')"
      ],
      "metadata": {
        "id": "l_fkcyZW_o7v"
      },
      "execution_count": 21,
      "outputs": []
    },
    {
      "cell_type": "code",
      "source": [
        "df_crime_october_2022=pd.read_csv('/content/drive/MyDrive/Project/d20ba0d324c43c5933d91d4362ea93f7b8174614/2022-10/2022-10-durham-street.csv')"
      ],
      "metadata": {
        "id": "1Zch3CDD_w-j"
      },
      "execution_count": 22,
      "outputs": []
    },
    {
      "cell_type": "code",
      "source": [
        "df_crime_november_2022=pd.read_csv('/content/drive/MyDrive/Project/d20ba0d324c43c5933d91d4362ea93f7b8174614/2022-11/2022-11-durham-street.csv')"
      ],
      "metadata": {
        "id": "O1fQcz4y_48g"
      },
      "execution_count": 23,
      "outputs": []
    },
    {
      "cell_type": "code",
      "source": [
        "df_crime_december_2022=pd.read_csv('/content/drive/MyDrive/Project/d20ba0d324c43c5933d91d4362ea93f7b8174614/2022-12/2022-12-durham-street.csv')"
      ],
      "metadata": {
        "id": "DRl0aR_gAGTi"
      },
      "execution_count": 24,
      "outputs": []
    },
    {
      "cell_type": "code",
      "source": [
        "df_allcrime_2022=pd.concat([df_crime_january_2022, df_crime_february_2022, df_crime_march_2022, df_crime_april_2022, df_crime_may_2022, df_crime_june_2022, df_crime_july_2022, df_crime_august_2022, df_crime_september_2022, df_crime_october_2022, df_crime_november_2022, df_crime_december_2022])"
      ],
      "metadata": {
        "id": "3QtYdQnsASgG"
      },
      "execution_count": 25,
      "outputs": []
    },
    {
      "cell_type": "code",
      "source": [
        "df_allcrime_2022.sample(6)"
      ],
      "metadata": {
        "colab": {
          "base_uri": "https://localhost:8080/",
          "height": 570
        },
        "id": "rqDYMsogBB9m",
        "outputId": "536801a3-c548-462b-d3a4-7dfda6004f62"
      },
      "execution_count": 26,
      "outputs": [
        {
          "output_type": "execute_result",
          "data": {
            "text/plain": [
              "                                               Crime ID    Month  \\\n",
              "3796  9de5a1dcf8fe42228fd1ee19faac37da59c525ad691f13...  2022-12   \n",
              "2842  afc7759023698f1edfb4293fbcd0fa2344ccd4a6a99b15...  2022-10   \n",
              "3466  d00d7c5d99d62428bf898111a295f90c0417754d7b7458...  2022-11   \n",
              "1887                                                NaN  2022-01   \n",
              "2976  6303847e71c16ff1f81f526ac8ae2228af0ceaeaff8d10...  2022-09   \n",
              "1010  bd28be889a2e2f82ab913266a68f5102b32db015f7f16a...  2022-11   \n",
              "\n",
              "              Reported by         Falls within  Longitude   Latitude  \\\n",
              "3796  Durham Constabulary  Durham Constabulary  -1.713769  54.635069   \n",
              "2842  Durham Constabulary  Durham Constabulary  -1.382689  54.759713   \n",
              "3466  Durham Constabulary  Durham Constabulary  -1.696480  54.712151   \n",
              "1887  Durham Constabulary  Durham Constabulary  -1.581774  54.775785   \n",
              "2976  Durham Constabulary  Durham Constabulary  -1.418793  54.745110   \n",
              "1010  Durham Constabulary  Durham Constabulary  -1.855897  54.844250   \n",
              "\n",
              "                        Location  LSOA code           LSOA name  \\\n",
              "3796       On or near South View  E01020895  County Durham 057C   \n",
              "2842     On or near Milton Grove  E01020761  County Durham 034B   \n",
              "3466      On or near High Street  E01020904  County Durham 046F   \n",
              "1887        On or near Crossgate  E01020703  County Durham 030A   \n",
              "2976                 On or near   E01020790  County Durham 040C   \n",
              "1010  On or near Evansleigh Road  E01034491  County Durham 014H   \n",
              "\n",
              "                        Crime type  \\\n",
              "3796  Violence and sexual offences   \n",
              "2842                 Vehicle crime   \n",
              "3466  Violence and sexual offences   \n",
              "1887         Anti-social behaviour   \n",
              "2976     Criminal damage and arson   \n",
              "1010                      Burglary   \n",
              "\n",
              "                              Last outcome category  Context  \n",
              "3796                    Unable to prosecute suspect      NaN  \n",
              "2842  Investigation complete; no suspect identified      NaN  \n",
              "3466                    Unable to prosecute suspect      NaN  \n",
              "1887                                            NaN      NaN  \n",
              "2976  Investigation complete; no suspect identified      NaN  \n",
              "1010                               Local resolution      NaN  "
            ],
            "text/html": [
              "\n",
              "  <div id=\"df-b15ee083-49c7-4502-a66c-27a1db0a8574\" class=\"colab-df-container\">\n",
              "    <div>\n",
              "<style scoped>\n",
              "    .dataframe tbody tr th:only-of-type {\n",
              "        vertical-align: middle;\n",
              "    }\n",
              "\n",
              "    .dataframe tbody tr th {\n",
              "        vertical-align: top;\n",
              "    }\n",
              "\n",
              "    .dataframe thead th {\n",
              "        text-align: right;\n",
              "    }\n",
              "</style>\n",
              "<table border=\"1\" class=\"dataframe\">\n",
              "  <thead>\n",
              "    <tr style=\"text-align: right;\">\n",
              "      <th></th>\n",
              "      <th>Crime ID</th>\n",
              "      <th>Month</th>\n",
              "      <th>Reported by</th>\n",
              "      <th>Falls within</th>\n",
              "      <th>Longitude</th>\n",
              "      <th>Latitude</th>\n",
              "      <th>Location</th>\n",
              "      <th>LSOA code</th>\n",
              "      <th>LSOA name</th>\n",
              "      <th>Crime type</th>\n",
              "      <th>Last outcome category</th>\n",
              "      <th>Context</th>\n",
              "    </tr>\n",
              "  </thead>\n",
              "  <tbody>\n",
              "    <tr>\n",
              "      <th>3796</th>\n",
              "      <td>9de5a1dcf8fe42228fd1ee19faac37da59c525ad691f13...</td>\n",
              "      <td>2022-12</td>\n",
              "      <td>Durham Constabulary</td>\n",
              "      <td>Durham Constabulary</td>\n",
              "      <td>-1.713769</td>\n",
              "      <td>54.635069</td>\n",
              "      <td>On or near South View</td>\n",
              "      <td>E01020895</td>\n",
              "      <td>County Durham 057C</td>\n",
              "      <td>Violence and sexual offences</td>\n",
              "      <td>Unable to prosecute suspect</td>\n",
              "      <td>NaN</td>\n",
              "    </tr>\n",
              "    <tr>\n",
              "      <th>2842</th>\n",
              "      <td>afc7759023698f1edfb4293fbcd0fa2344ccd4a6a99b15...</td>\n",
              "      <td>2022-10</td>\n",
              "      <td>Durham Constabulary</td>\n",
              "      <td>Durham Constabulary</td>\n",
              "      <td>-1.382689</td>\n",
              "      <td>54.759713</td>\n",
              "      <td>On or near Milton Grove</td>\n",
              "      <td>E01020761</td>\n",
              "      <td>County Durham 034B</td>\n",
              "      <td>Vehicle crime</td>\n",
              "      <td>Investigation complete; no suspect identified</td>\n",
              "      <td>NaN</td>\n",
              "    </tr>\n",
              "    <tr>\n",
              "      <th>3466</th>\n",
              "      <td>d00d7c5d99d62428bf898111a295f90c0417754d7b7458...</td>\n",
              "      <td>2022-11</td>\n",
              "      <td>Durham Constabulary</td>\n",
              "      <td>Durham Constabulary</td>\n",
              "      <td>-1.696480</td>\n",
              "      <td>54.712151</td>\n",
              "      <td>On or near High Street</td>\n",
              "      <td>E01020904</td>\n",
              "      <td>County Durham 046F</td>\n",
              "      <td>Violence and sexual offences</td>\n",
              "      <td>Unable to prosecute suspect</td>\n",
              "      <td>NaN</td>\n",
              "    </tr>\n",
              "    <tr>\n",
              "      <th>1887</th>\n",
              "      <td>NaN</td>\n",
              "      <td>2022-01</td>\n",
              "      <td>Durham Constabulary</td>\n",
              "      <td>Durham Constabulary</td>\n",
              "      <td>-1.581774</td>\n",
              "      <td>54.775785</td>\n",
              "      <td>On or near Crossgate</td>\n",
              "      <td>E01020703</td>\n",
              "      <td>County Durham 030A</td>\n",
              "      <td>Anti-social behaviour</td>\n",
              "      <td>NaN</td>\n",
              "      <td>NaN</td>\n",
              "    </tr>\n",
              "    <tr>\n",
              "      <th>2976</th>\n",
              "      <td>6303847e71c16ff1f81f526ac8ae2228af0ceaeaff8d10...</td>\n",
              "      <td>2022-09</td>\n",
              "      <td>Durham Constabulary</td>\n",
              "      <td>Durham Constabulary</td>\n",
              "      <td>-1.418793</td>\n",
              "      <td>54.745110</td>\n",
              "      <td>On or near</td>\n",
              "      <td>E01020790</td>\n",
              "      <td>County Durham 040C</td>\n",
              "      <td>Criminal damage and arson</td>\n",
              "      <td>Investigation complete; no suspect identified</td>\n",
              "      <td>NaN</td>\n",
              "    </tr>\n",
              "    <tr>\n",
              "      <th>1010</th>\n",
              "      <td>bd28be889a2e2f82ab913266a68f5102b32db015f7f16a...</td>\n",
              "      <td>2022-11</td>\n",
              "      <td>Durham Constabulary</td>\n",
              "      <td>Durham Constabulary</td>\n",
              "      <td>-1.855897</td>\n",
              "      <td>54.844250</td>\n",
              "      <td>On or near Evansleigh Road</td>\n",
              "      <td>E01034491</td>\n",
              "      <td>County Durham 014H</td>\n",
              "      <td>Burglary</td>\n",
              "      <td>Local resolution</td>\n",
              "      <td>NaN</td>\n",
              "    </tr>\n",
              "  </tbody>\n",
              "</table>\n",
              "</div>\n",
              "    <div class=\"colab-df-buttons\">\n",
              "\n",
              "  <div class=\"colab-df-container\">\n",
              "    <button class=\"colab-df-convert\" onclick=\"convertToInteractive('df-b15ee083-49c7-4502-a66c-27a1db0a8574')\"\n",
              "            title=\"Convert this dataframe to an interactive table.\"\n",
              "            style=\"display:none;\">\n",
              "\n",
              "  <svg xmlns=\"http://www.w3.org/2000/svg\" height=\"24px\" viewBox=\"0 -960 960 960\">\n",
              "    <path d=\"M120-120v-720h720v720H120Zm60-500h600v-160H180v160Zm220 220h160v-160H400v160Zm0 220h160v-160H400v160ZM180-400h160v-160H180v160Zm440 0h160v-160H620v160ZM180-180h160v-160H180v160Zm440 0h160v-160H620v160Z\"/>\n",
              "  </svg>\n",
              "    </button>\n",
              "\n",
              "  <style>\n",
              "    .colab-df-container {\n",
              "      display:flex;\n",
              "      gap: 12px;\n",
              "    }\n",
              "\n",
              "    .colab-df-convert {\n",
              "      background-color: #E8F0FE;\n",
              "      border: none;\n",
              "      border-radius: 50%;\n",
              "      cursor: pointer;\n",
              "      display: none;\n",
              "      fill: #1967D2;\n",
              "      height: 32px;\n",
              "      padding: 0 0 0 0;\n",
              "      width: 32px;\n",
              "    }\n",
              "\n",
              "    .colab-df-convert:hover {\n",
              "      background-color: #E2EBFA;\n",
              "      box-shadow: 0px 1px 2px rgba(60, 64, 67, 0.3), 0px 1px 3px 1px rgba(60, 64, 67, 0.15);\n",
              "      fill: #174EA6;\n",
              "    }\n",
              "\n",
              "    .colab-df-buttons div {\n",
              "      margin-bottom: 4px;\n",
              "    }\n",
              "\n",
              "    [theme=dark] .colab-df-convert {\n",
              "      background-color: #3B4455;\n",
              "      fill: #D2E3FC;\n",
              "    }\n",
              "\n",
              "    [theme=dark] .colab-df-convert:hover {\n",
              "      background-color: #434B5C;\n",
              "      box-shadow: 0px 1px 3px 1px rgba(0, 0, 0, 0.15);\n",
              "      filter: drop-shadow(0px 1px 2px rgba(0, 0, 0, 0.3));\n",
              "      fill: #FFFFFF;\n",
              "    }\n",
              "  </style>\n",
              "\n",
              "    <script>\n",
              "      const buttonEl =\n",
              "        document.querySelector('#df-b15ee083-49c7-4502-a66c-27a1db0a8574 button.colab-df-convert');\n",
              "      buttonEl.style.display =\n",
              "        google.colab.kernel.accessAllowed ? 'block' : 'none';\n",
              "\n",
              "      async function convertToInteractive(key) {\n",
              "        const element = document.querySelector('#df-b15ee083-49c7-4502-a66c-27a1db0a8574');\n",
              "        const dataTable =\n",
              "          await google.colab.kernel.invokeFunction('convertToInteractive',\n",
              "                                                    [key], {});\n",
              "        if (!dataTable) return;\n",
              "\n",
              "        const docLinkHtml = 'Like what you see? Visit the ' +\n",
              "          '<a target=\"_blank\" href=https://colab.research.google.com/notebooks/data_table.ipynb>data table notebook</a>'\n",
              "          + ' to learn more about interactive tables.';\n",
              "        element.innerHTML = '';\n",
              "        dataTable['output_type'] = 'display_data';\n",
              "        await google.colab.output.renderOutput(dataTable, element);\n",
              "        const docLink = document.createElement('div');\n",
              "        docLink.innerHTML = docLinkHtml;\n",
              "        element.appendChild(docLink);\n",
              "      }\n",
              "    </script>\n",
              "  </div>\n",
              "\n",
              "\n",
              "<div id=\"df-eb28fca8-b156-49bb-a8cb-adb2e69a8b4b\">\n",
              "  <button class=\"colab-df-quickchart\" onclick=\"quickchart('df-eb28fca8-b156-49bb-a8cb-adb2e69a8b4b')\"\n",
              "            title=\"Suggest charts\"\n",
              "            style=\"display:none;\">\n",
              "\n",
              "<svg xmlns=\"http://www.w3.org/2000/svg\" height=\"24px\"viewBox=\"0 0 24 24\"\n",
              "     width=\"24px\">\n",
              "    <g>\n",
              "        <path d=\"M19 3H5c-1.1 0-2 .9-2 2v14c0 1.1.9 2 2 2h14c1.1 0 2-.9 2-2V5c0-1.1-.9-2-2-2zM9 17H7v-7h2v7zm4 0h-2V7h2v10zm4 0h-2v-4h2v4z\"/>\n",
              "    </g>\n",
              "</svg>\n",
              "  </button>\n",
              "\n",
              "<style>\n",
              "  .colab-df-quickchart {\n",
              "      --bg-color: #E8F0FE;\n",
              "      --fill-color: #1967D2;\n",
              "      --hover-bg-color: #E2EBFA;\n",
              "      --hover-fill-color: #174EA6;\n",
              "      --disabled-fill-color: #AAA;\n",
              "      --disabled-bg-color: #DDD;\n",
              "  }\n",
              "\n",
              "  [theme=dark] .colab-df-quickchart {\n",
              "      --bg-color: #3B4455;\n",
              "      --fill-color: #D2E3FC;\n",
              "      --hover-bg-color: #434B5C;\n",
              "      --hover-fill-color: #FFFFFF;\n",
              "      --disabled-bg-color: #3B4455;\n",
              "      --disabled-fill-color: #666;\n",
              "  }\n",
              "\n",
              "  .colab-df-quickchart {\n",
              "    background-color: var(--bg-color);\n",
              "    border: none;\n",
              "    border-radius: 50%;\n",
              "    cursor: pointer;\n",
              "    display: none;\n",
              "    fill: var(--fill-color);\n",
              "    height: 32px;\n",
              "    padding: 0;\n",
              "    width: 32px;\n",
              "  }\n",
              "\n",
              "  .colab-df-quickchart:hover {\n",
              "    background-color: var(--hover-bg-color);\n",
              "    box-shadow: 0 1px 2px rgba(60, 64, 67, 0.3), 0 1px 3px 1px rgba(60, 64, 67, 0.15);\n",
              "    fill: var(--button-hover-fill-color);\n",
              "  }\n",
              "\n",
              "  .colab-df-quickchart-complete:disabled,\n",
              "  .colab-df-quickchart-complete:disabled:hover {\n",
              "    background-color: var(--disabled-bg-color);\n",
              "    fill: var(--disabled-fill-color);\n",
              "    box-shadow: none;\n",
              "  }\n",
              "\n",
              "  .colab-df-spinner {\n",
              "    border: 2px solid var(--fill-color);\n",
              "    border-color: transparent;\n",
              "    border-bottom-color: var(--fill-color);\n",
              "    animation:\n",
              "      spin 1s steps(1) infinite;\n",
              "  }\n",
              "\n",
              "  @keyframes spin {\n",
              "    0% {\n",
              "      border-color: transparent;\n",
              "      border-bottom-color: var(--fill-color);\n",
              "      border-left-color: var(--fill-color);\n",
              "    }\n",
              "    20% {\n",
              "      border-color: transparent;\n",
              "      border-left-color: var(--fill-color);\n",
              "      border-top-color: var(--fill-color);\n",
              "    }\n",
              "    30% {\n",
              "      border-color: transparent;\n",
              "      border-left-color: var(--fill-color);\n",
              "      border-top-color: var(--fill-color);\n",
              "      border-right-color: var(--fill-color);\n",
              "    }\n",
              "    40% {\n",
              "      border-color: transparent;\n",
              "      border-right-color: var(--fill-color);\n",
              "      border-top-color: var(--fill-color);\n",
              "    }\n",
              "    60% {\n",
              "      border-color: transparent;\n",
              "      border-right-color: var(--fill-color);\n",
              "    }\n",
              "    80% {\n",
              "      border-color: transparent;\n",
              "      border-right-color: var(--fill-color);\n",
              "      border-bottom-color: var(--fill-color);\n",
              "    }\n",
              "    90% {\n",
              "      border-color: transparent;\n",
              "      border-bottom-color: var(--fill-color);\n",
              "    }\n",
              "  }\n",
              "</style>\n",
              "\n",
              "  <script>\n",
              "    async function quickchart(key) {\n",
              "      const quickchartButtonEl =\n",
              "        document.querySelector('#' + key + ' button');\n",
              "      quickchartButtonEl.disabled = true;  // To prevent multiple clicks.\n",
              "      quickchartButtonEl.classList.add('colab-df-spinner');\n",
              "      try {\n",
              "        const charts = await google.colab.kernel.invokeFunction(\n",
              "            'suggestCharts', [key], {});\n",
              "      } catch (error) {\n",
              "        console.error('Error during call to suggestCharts:', error);\n",
              "      }\n",
              "      quickchartButtonEl.classList.remove('colab-df-spinner');\n",
              "      quickchartButtonEl.classList.add('colab-df-quickchart-complete');\n",
              "    }\n",
              "    (() => {\n",
              "      let quickchartButtonEl =\n",
              "        document.querySelector('#df-eb28fca8-b156-49bb-a8cb-adb2e69a8b4b button');\n",
              "      quickchartButtonEl.style.display =\n",
              "        google.colab.kernel.accessAllowed ? 'block' : 'none';\n",
              "    })();\n",
              "  </script>\n",
              "</div>\n",
              "\n",
              "    </div>\n",
              "  </div>\n"
            ],
            "application/vnd.google.colaboratory.intrinsic+json": {
              "type": "dataframe",
              "repr_error": "0"
            }
          },
          "metadata": {},
          "execution_count": 26
        }
      ]
    },
    {
      "cell_type": "code",
      "source": [
        "df_allcrime_2023=pd.concat([pd.read_csv('/content/drive/MyDrive/Project/d20ba0d324c43c5933d91d4362ea93f7b8174614/2023-01/2023-01-durham-street.csv'), pd.read_csv('/content/drive/MyDrive/Project/d20ba0d324c43c5933d91d4362ea93f7b8174614/2023-02/2023-02-durham-street.csv'), pd.read_csv('/content/drive/MyDrive/Project/d20ba0d324c43c5933d91d4362ea93f7b8174614/2023-03/2023-03-durham-street.csv'), pd.read_csv('/content/drive/MyDrive/Project/d20ba0d324c43c5933d91d4362ea93f7b8174614/2023-04/2023-04-durham-street.csv'), pd.read_csv('/content/drive/MyDrive/Project/d20ba0d324c43c5933d91d4362ea93f7b8174614/2023-05/2023-05-durham-street.csv'), pd.read_csv('/content/drive/MyDrive/Project/d20ba0d324c43c5933d91d4362ea93f7b8174614/2023-06/2023-06-durham-street.csv'), pd.read_csv('/content/drive/MyDrive/Project/d20ba0d324c43c5933d91d4362ea93f7b8174614/2023-07/2023-07-durham-street.csv'), pd.read_csv('/content/drive/MyDrive/Project/d20ba0d324c43c5933d91d4362ea93f7b8174614/2023-08/2023-08-durham-street.csv'), pd.read_csv('/content/drive/MyDrive/Project/d20ba0d324c43c5933d91d4362ea93f7b8174614/2023-09/2023-09-durham-street.csv'), pd.read_csv('/content/drive/MyDrive/Project/d20ba0d324c43c5933d91d4362ea93f7b8174614/2023-10/2023-10-durham-street.csv'), pd.read_csv('/content/drive/MyDrive/Project/d20ba0d324c43c5933d91d4362ea93f7b8174614/2023-11/2023-11-durham-street.csv'), pd.read_csv('/content/drive/MyDrive/Project/d20ba0d324c43c5933d91d4362ea93f7b8174614/2023-12/2023-12-durham-street.csv') ])"
      ],
      "metadata": {
        "id": "J27VBV3rBM3E"
      },
      "execution_count": 27,
      "outputs": []
    },
    {
      "cell_type": "code",
      "source": [
        "df_allcrime_2023.sample(6)"
      ],
      "metadata": {
        "colab": {
          "base_uri": "https://localhost:8080/",
          "height": 552
        },
        "id": "GzgwN_APCeae",
        "outputId": "ecac08de-b3a9-4f65-8ed2-372e0c914772"
      },
      "execution_count": 28,
      "outputs": [
        {
          "output_type": "execute_result",
          "data": {
            "text/plain": [
              "                                               Crime ID    Month  \\\n",
              "6047  bd095f6673f386f3f7fb86c80a0aa6f5a7197aea3b99bf...  2023-06   \n",
              "1877                                                NaN  2023-12   \n",
              "1784  f4d390ccf7f247cb710871872cb43d787119f79e20feff...  2023-10   \n",
              "3830  d06dabd925462f96965fe17e911cbbd4773229d9a3c8cb...  2023-03   \n",
              "6029  129d9387f0bc083f1186bba2856a661c469d31afbe6248...  2023-08   \n",
              "5709                                                NaN  2023-07   \n",
              "\n",
              "              Reported by         Falls within  Longitude   Latitude  \\\n",
              "6047  Durham Constabulary  Durham Constabulary  -1.516628  54.533467   \n",
              "1877  Durham Constabulary  Durham Constabulary  -1.709785  54.772528   \n",
              "1784  Durham Constabulary  Durham Constabulary  -1.352249  54.780987   \n",
              "3830  Durham Constabulary  Durham Constabulary  -1.609886  54.700832   \n",
              "6029  Durham Constabulary  Durham Constabulary  -1.540896  54.520575   \n",
              "5709  Durham Constabulary  Durham Constabulary  -1.519669  54.540381   \n",
              "\n",
              "                            Location  LSOA code           LSOA name  \\\n",
              "6047  On or near White Hart Crescent  E01012327     Darlington 009B   \n",
              "1877       On or near Woodlands Road  E01020705  County Durham 031A   \n",
              "1784      On or near Nursery Gardens  E01020756  County Durham 025D   \n",
              "3830          On or near Carr Street  E01020837  County Durham 047D   \n",
              "6029      On or near Pattison Street  E01012305     Darlington 012B   \n",
              "5709       On or near Feetham Avenue  E01012326     Darlington 005B   \n",
              "\n",
              "                        Crime type        Last outcome category  Context  \n",
              "6047                         Drugs     Offender given a caution      NaN  \n",
              "1877         Anti-social behaviour                          NaN      NaN  \n",
              "1784  Violence and sexual offences  Unable to prosecute suspect      NaN  \n",
              "3830  Violence and sexual offences  Unable to prosecute suspect      NaN  \n",
              "6029  Violence and sexual offences  Unable to prosecute suspect      NaN  \n",
              "5709         Anti-social behaviour                          NaN      NaN  "
            ],
            "text/html": [
              "\n",
              "  <div id=\"df-9d67dc23-a4e1-4dea-86a4-f738c41279c7\" class=\"colab-df-container\">\n",
              "    <div>\n",
              "<style scoped>\n",
              "    .dataframe tbody tr th:only-of-type {\n",
              "        vertical-align: middle;\n",
              "    }\n",
              "\n",
              "    .dataframe tbody tr th {\n",
              "        vertical-align: top;\n",
              "    }\n",
              "\n",
              "    .dataframe thead th {\n",
              "        text-align: right;\n",
              "    }\n",
              "</style>\n",
              "<table border=\"1\" class=\"dataframe\">\n",
              "  <thead>\n",
              "    <tr style=\"text-align: right;\">\n",
              "      <th></th>\n",
              "      <th>Crime ID</th>\n",
              "      <th>Month</th>\n",
              "      <th>Reported by</th>\n",
              "      <th>Falls within</th>\n",
              "      <th>Longitude</th>\n",
              "      <th>Latitude</th>\n",
              "      <th>Location</th>\n",
              "      <th>LSOA code</th>\n",
              "      <th>LSOA name</th>\n",
              "      <th>Crime type</th>\n",
              "      <th>Last outcome category</th>\n",
              "      <th>Context</th>\n",
              "    </tr>\n",
              "  </thead>\n",
              "  <tbody>\n",
              "    <tr>\n",
              "      <th>6047</th>\n",
              "      <td>bd095f6673f386f3f7fb86c80a0aa6f5a7197aea3b99bf...</td>\n",
              "      <td>2023-06</td>\n",
              "      <td>Durham Constabulary</td>\n",
              "      <td>Durham Constabulary</td>\n",
              "      <td>-1.516628</td>\n",
              "      <td>54.533467</td>\n",
              "      <td>On or near White Hart Crescent</td>\n",
              "      <td>E01012327</td>\n",
              "      <td>Darlington 009B</td>\n",
              "      <td>Drugs</td>\n",
              "      <td>Offender given a caution</td>\n",
              "      <td>NaN</td>\n",
              "    </tr>\n",
              "    <tr>\n",
              "      <th>1877</th>\n",
              "      <td>NaN</td>\n",
              "      <td>2023-12</td>\n",
              "      <td>Durham Constabulary</td>\n",
              "      <td>Durham Constabulary</td>\n",
              "      <td>-1.709785</td>\n",
              "      <td>54.772528</td>\n",
              "      <td>On or near Woodlands Road</td>\n",
              "      <td>E01020705</td>\n",
              "      <td>County Durham 031A</td>\n",
              "      <td>Anti-social behaviour</td>\n",
              "      <td>NaN</td>\n",
              "      <td>NaN</td>\n",
              "    </tr>\n",
              "    <tr>\n",
              "      <th>1784</th>\n",
              "      <td>f4d390ccf7f247cb710871872cb43d787119f79e20feff...</td>\n",
              "      <td>2023-10</td>\n",
              "      <td>Durham Constabulary</td>\n",
              "      <td>Durham Constabulary</td>\n",
              "      <td>-1.352249</td>\n",
              "      <td>54.780987</td>\n",
              "      <td>On or near Nursery Gardens</td>\n",
              "      <td>E01020756</td>\n",
              "      <td>County Durham 025D</td>\n",
              "      <td>Violence and sexual offences</td>\n",
              "      <td>Unable to prosecute suspect</td>\n",
              "      <td>NaN</td>\n",
              "    </tr>\n",
              "    <tr>\n",
              "      <th>3830</th>\n",
              "      <td>d06dabd925462f96965fe17e911cbbd4773229d9a3c8cb...</td>\n",
              "      <td>2023-03</td>\n",
              "      <td>Durham Constabulary</td>\n",
              "      <td>Durham Constabulary</td>\n",
              "      <td>-1.609886</td>\n",
              "      <td>54.700832</td>\n",
              "      <td>On or near Carr Street</td>\n",
              "      <td>E01020837</td>\n",
              "      <td>County Durham 047D</td>\n",
              "      <td>Violence and sexual offences</td>\n",
              "      <td>Unable to prosecute suspect</td>\n",
              "      <td>NaN</td>\n",
              "    </tr>\n",
              "    <tr>\n",
              "      <th>6029</th>\n",
              "      <td>129d9387f0bc083f1186bba2856a661c469d31afbe6248...</td>\n",
              "      <td>2023-08</td>\n",
              "      <td>Durham Constabulary</td>\n",
              "      <td>Durham Constabulary</td>\n",
              "      <td>-1.540896</td>\n",
              "      <td>54.520575</td>\n",
              "      <td>On or near Pattison Street</td>\n",
              "      <td>E01012305</td>\n",
              "      <td>Darlington 012B</td>\n",
              "      <td>Violence and sexual offences</td>\n",
              "      <td>Unable to prosecute suspect</td>\n",
              "      <td>NaN</td>\n",
              "    </tr>\n",
              "    <tr>\n",
              "      <th>5709</th>\n",
              "      <td>NaN</td>\n",
              "      <td>2023-07</td>\n",
              "      <td>Durham Constabulary</td>\n",
              "      <td>Durham Constabulary</td>\n",
              "      <td>-1.519669</td>\n",
              "      <td>54.540381</td>\n",
              "      <td>On or near Feetham Avenue</td>\n",
              "      <td>E01012326</td>\n",
              "      <td>Darlington 005B</td>\n",
              "      <td>Anti-social behaviour</td>\n",
              "      <td>NaN</td>\n",
              "      <td>NaN</td>\n",
              "    </tr>\n",
              "  </tbody>\n",
              "</table>\n",
              "</div>\n",
              "    <div class=\"colab-df-buttons\">\n",
              "\n",
              "  <div class=\"colab-df-container\">\n",
              "    <button class=\"colab-df-convert\" onclick=\"convertToInteractive('df-9d67dc23-a4e1-4dea-86a4-f738c41279c7')\"\n",
              "            title=\"Convert this dataframe to an interactive table.\"\n",
              "            style=\"display:none;\">\n",
              "\n",
              "  <svg xmlns=\"http://www.w3.org/2000/svg\" height=\"24px\" viewBox=\"0 -960 960 960\">\n",
              "    <path d=\"M120-120v-720h720v720H120Zm60-500h600v-160H180v160Zm220 220h160v-160H400v160Zm0 220h160v-160H400v160ZM180-400h160v-160H180v160Zm440 0h160v-160H620v160ZM180-180h160v-160H180v160Zm440 0h160v-160H620v160Z\"/>\n",
              "  </svg>\n",
              "    </button>\n",
              "\n",
              "  <style>\n",
              "    .colab-df-container {\n",
              "      display:flex;\n",
              "      gap: 12px;\n",
              "    }\n",
              "\n",
              "    .colab-df-convert {\n",
              "      background-color: #E8F0FE;\n",
              "      border: none;\n",
              "      border-radius: 50%;\n",
              "      cursor: pointer;\n",
              "      display: none;\n",
              "      fill: #1967D2;\n",
              "      height: 32px;\n",
              "      padding: 0 0 0 0;\n",
              "      width: 32px;\n",
              "    }\n",
              "\n",
              "    .colab-df-convert:hover {\n",
              "      background-color: #E2EBFA;\n",
              "      box-shadow: 0px 1px 2px rgba(60, 64, 67, 0.3), 0px 1px 3px 1px rgba(60, 64, 67, 0.15);\n",
              "      fill: #174EA6;\n",
              "    }\n",
              "\n",
              "    .colab-df-buttons div {\n",
              "      margin-bottom: 4px;\n",
              "    }\n",
              "\n",
              "    [theme=dark] .colab-df-convert {\n",
              "      background-color: #3B4455;\n",
              "      fill: #D2E3FC;\n",
              "    }\n",
              "\n",
              "    [theme=dark] .colab-df-convert:hover {\n",
              "      background-color: #434B5C;\n",
              "      box-shadow: 0px 1px 3px 1px rgba(0, 0, 0, 0.15);\n",
              "      filter: drop-shadow(0px 1px 2px rgba(0, 0, 0, 0.3));\n",
              "      fill: #FFFFFF;\n",
              "    }\n",
              "  </style>\n",
              "\n",
              "    <script>\n",
              "      const buttonEl =\n",
              "        document.querySelector('#df-9d67dc23-a4e1-4dea-86a4-f738c41279c7 button.colab-df-convert');\n",
              "      buttonEl.style.display =\n",
              "        google.colab.kernel.accessAllowed ? 'block' : 'none';\n",
              "\n",
              "      async function convertToInteractive(key) {\n",
              "        const element = document.querySelector('#df-9d67dc23-a4e1-4dea-86a4-f738c41279c7');\n",
              "        const dataTable =\n",
              "          await google.colab.kernel.invokeFunction('convertToInteractive',\n",
              "                                                    [key], {});\n",
              "        if (!dataTable) return;\n",
              "\n",
              "        const docLinkHtml = 'Like what you see? Visit the ' +\n",
              "          '<a target=\"_blank\" href=https://colab.research.google.com/notebooks/data_table.ipynb>data table notebook</a>'\n",
              "          + ' to learn more about interactive tables.';\n",
              "        element.innerHTML = '';\n",
              "        dataTable['output_type'] = 'display_data';\n",
              "        await google.colab.output.renderOutput(dataTable, element);\n",
              "        const docLink = document.createElement('div');\n",
              "        docLink.innerHTML = docLinkHtml;\n",
              "        element.appendChild(docLink);\n",
              "      }\n",
              "    </script>\n",
              "  </div>\n",
              "\n",
              "\n",
              "<div id=\"df-4aeee2c2-2249-4ee4-b841-598a243d0081\">\n",
              "  <button class=\"colab-df-quickchart\" onclick=\"quickchart('df-4aeee2c2-2249-4ee4-b841-598a243d0081')\"\n",
              "            title=\"Suggest charts\"\n",
              "            style=\"display:none;\">\n",
              "\n",
              "<svg xmlns=\"http://www.w3.org/2000/svg\" height=\"24px\"viewBox=\"0 0 24 24\"\n",
              "     width=\"24px\">\n",
              "    <g>\n",
              "        <path d=\"M19 3H5c-1.1 0-2 .9-2 2v14c0 1.1.9 2 2 2h14c1.1 0 2-.9 2-2V5c0-1.1-.9-2-2-2zM9 17H7v-7h2v7zm4 0h-2V7h2v10zm4 0h-2v-4h2v4z\"/>\n",
              "    </g>\n",
              "</svg>\n",
              "  </button>\n",
              "\n",
              "<style>\n",
              "  .colab-df-quickchart {\n",
              "      --bg-color: #E8F0FE;\n",
              "      --fill-color: #1967D2;\n",
              "      --hover-bg-color: #E2EBFA;\n",
              "      --hover-fill-color: #174EA6;\n",
              "      --disabled-fill-color: #AAA;\n",
              "      --disabled-bg-color: #DDD;\n",
              "  }\n",
              "\n",
              "  [theme=dark] .colab-df-quickchart {\n",
              "      --bg-color: #3B4455;\n",
              "      --fill-color: #D2E3FC;\n",
              "      --hover-bg-color: #434B5C;\n",
              "      --hover-fill-color: #FFFFFF;\n",
              "      --disabled-bg-color: #3B4455;\n",
              "      --disabled-fill-color: #666;\n",
              "  }\n",
              "\n",
              "  .colab-df-quickchart {\n",
              "    background-color: var(--bg-color);\n",
              "    border: none;\n",
              "    border-radius: 50%;\n",
              "    cursor: pointer;\n",
              "    display: none;\n",
              "    fill: var(--fill-color);\n",
              "    height: 32px;\n",
              "    padding: 0;\n",
              "    width: 32px;\n",
              "  }\n",
              "\n",
              "  .colab-df-quickchart:hover {\n",
              "    background-color: var(--hover-bg-color);\n",
              "    box-shadow: 0 1px 2px rgba(60, 64, 67, 0.3), 0 1px 3px 1px rgba(60, 64, 67, 0.15);\n",
              "    fill: var(--button-hover-fill-color);\n",
              "  }\n",
              "\n",
              "  .colab-df-quickchart-complete:disabled,\n",
              "  .colab-df-quickchart-complete:disabled:hover {\n",
              "    background-color: var(--disabled-bg-color);\n",
              "    fill: var(--disabled-fill-color);\n",
              "    box-shadow: none;\n",
              "  }\n",
              "\n",
              "  .colab-df-spinner {\n",
              "    border: 2px solid var(--fill-color);\n",
              "    border-color: transparent;\n",
              "    border-bottom-color: var(--fill-color);\n",
              "    animation:\n",
              "      spin 1s steps(1) infinite;\n",
              "  }\n",
              "\n",
              "  @keyframes spin {\n",
              "    0% {\n",
              "      border-color: transparent;\n",
              "      border-bottom-color: var(--fill-color);\n",
              "      border-left-color: var(--fill-color);\n",
              "    }\n",
              "    20% {\n",
              "      border-color: transparent;\n",
              "      border-left-color: var(--fill-color);\n",
              "      border-top-color: var(--fill-color);\n",
              "    }\n",
              "    30% {\n",
              "      border-color: transparent;\n",
              "      border-left-color: var(--fill-color);\n",
              "      border-top-color: var(--fill-color);\n",
              "      border-right-color: var(--fill-color);\n",
              "    }\n",
              "    40% {\n",
              "      border-color: transparent;\n",
              "      border-right-color: var(--fill-color);\n",
              "      border-top-color: var(--fill-color);\n",
              "    }\n",
              "    60% {\n",
              "      border-color: transparent;\n",
              "      border-right-color: var(--fill-color);\n",
              "    }\n",
              "    80% {\n",
              "      border-color: transparent;\n",
              "      border-right-color: var(--fill-color);\n",
              "      border-bottom-color: var(--fill-color);\n",
              "    }\n",
              "    90% {\n",
              "      border-color: transparent;\n",
              "      border-bottom-color: var(--fill-color);\n",
              "    }\n",
              "  }\n",
              "</style>\n",
              "\n",
              "  <script>\n",
              "    async function quickchart(key) {\n",
              "      const quickchartButtonEl =\n",
              "        document.querySelector('#' + key + ' button');\n",
              "      quickchartButtonEl.disabled = true;  // To prevent multiple clicks.\n",
              "      quickchartButtonEl.classList.add('colab-df-spinner');\n",
              "      try {\n",
              "        const charts = await google.colab.kernel.invokeFunction(\n",
              "            'suggestCharts', [key], {});\n",
              "      } catch (error) {\n",
              "        console.error('Error during call to suggestCharts:', error);\n",
              "      }\n",
              "      quickchartButtonEl.classList.remove('colab-df-spinner');\n",
              "      quickchartButtonEl.classList.add('colab-df-quickchart-complete');\n",
              "    }\n",
              "    (() => {\n",
              "      let quickchartButtonEl =\n",
              "        document.querySelector('#df-4aeee2c2-2249-4ee4-b841-598a243d0081 button');\n",
              "      quickchartButtonEl.style.display =\n",
              "        google.colab.kernel.accessAllowed ? 'block' : 'none';\n",
              "    })();\n",
              "  </script>\n",
              "</div>\n",
              "\n",
              "    </div>\n",
              "  </div>\n"
            ],
            "application/vnd.google.colaboratory.intrinsic+json": {
              "type": "dataframe",
              "repr_error": "0"
            }
          },
          "metadata": {},
          "execution_count": 28
        }
      ]
    },
    {
      "cell_type": "code",
      "source": [
        "df_allcrime_2024=pd.concat([pd.read_csv('/content/drive/MyDrive/Project/d20ba0d324c43c5933d91d4362ea93f7b8174614/2024-01/2024-01-durham-street.csv'), pd.read_csv('/content/drive/MyDrive/Project/d20ba0d324c43c5933d91d4362ea93f7b8174614/2024-02/2024-02-durham-street.csv'), pd.read_csv('/content/drive/MyDrive/Project/d20ba0d324c43c5933d91d4362ea93f7b8174614/2024-03/2024-03-durham-street.csv'), pd.read_csv('/content/drive/MyDrive/Project/d20ba0d324c43c5933d91d4362ea93f7b8174614/2024-04/2024-04-durham-street.csv'), pd.read_csv('/content/drive/MyDrive/Project/d20ba0d324c43c5933d91d4362ea93f7b8174614/2024-05/2024-05-durham-street.csv'), pd.read_csv('/content/drive/MyDrive/Project/d20ba0d324c43c5933d91d4362ea93f7b8174614/2024-06/2024-06-durham-street.csv') ])"
      ],
      "metadata": {
        "id": "0iL2H_KC7tgz"
      },
      "execution_count": 29,
      "outputs": []
    },
    {
      "cell_type": "code",
      "source": [
        "df_allcrime_2024.sample(6)"
      ],
      "metadata": {
        "colab": {
          "base_uri": "https://localhost:8080/",
          "height": 570
        },
        "id": "sCfQWH_V85i4",
        "outputId": "f0240298-20ce-454e-d43f-718e3e569ad1"
      },
      "execution_count": 30,
      "outputs": [
        {
          "output_type": "execute_result",
          "data": {
            "text/plain": [
              "                                               Crime ID    Month  \\\n",
              "5779  3ddb196258d7a7e9a1a5d8795f0a65edb3922dd8aeb017...  2024-06   \n",
              "3180                                                NaN  2024-03   \n",
              "1101  c0be7298c88979f578820855b5a86ddce71b4eb09dade4...  2024-02   \n",
              "5443  9bb609491f4334850695826ed3ed567357f01eaed0e359...  2024-02   \n",
              "4554  2a7042c2b29d53e868e6a18dcd01d8ecd1144da8b9a085...  2024-04   \n",
              "2942  35900fc4cb6d59fa65ae3c3761e8b3e18fa7bc8f19b65c...  2024-02   \n",
              "\n",
              "              Reported by         Falls within  Longitude   Latitude  \\\n",
              "5779  Durham Constabulary  Durham Constabulary  -1.551946  54.518747   \n",
              "3180  Durham Constabulary  Durham Constabulary  -1.383273  54.732531   \n",
              "1101  Durham Constabulary  Durham Constabulary  -1.632966  54.835891   \n",
              "5443  Durham Constabulary  Durham Constabulary  -1.559917  54.524519   \n",
              "4554  Durham Constabulary  Durham Constabulary  -1.640042  54.633372   \n",
              "2942  Durham Constabulary  Durham Constabulary  -1.743672  54.715944   \n",
              "\n",
              "                           Location  LSOA code           LSOA name  \\\n",
              "5779  On or near Chatsworth Terrace  E01012356     Darlington 014A   \n",
              "3180        On or near Queen'S Road  E01020793  County Durham 043B   \n",
              "1101      On or near Stobart Street  E01020604  County Durham 019A   \n",
              "5443      On or near Powlett Street  E01035187     Darlington 016H   \n",
              "4554    On or near Sunnyside Avenue  E01020841  County Durham 059F   \n",
              "2942        On or near Parking Area  E01020877  County Durham 046A   \n",
              "\n",
              "                        Crime type  \\\n",
              "5779  Violence and sexual offences   \n",
              "3180         Anti-social behaviour   \n",
              "1101  Violence and sexual offences   \n",
              "5443  Violence and sexual offences   \n",
              "4554  Violence and sexual offences   \n",
              "2942                   Shoplifting   \n",
              "\n",
              "                                  Last outcome category  Context  \n",
              "5779                        Unable to prosecute suspect      NaN  \n",
              "3180                                                NaN      NaN  \n",
              "1101  Further investigation is not in the public int...      NaN  \n",
              "5443                        Unable to prosecute suspect      NaN  \n",
              "4554                        Unable to prosecute suspect      NaN  \n",
              "2942                             Awaiting court outcome      NaN  "
            ],
            "text/html": [
              "\n",
              "  <div id=\"df-154ee61c-ce5b-4899-b145-5c4a2734cd7b\" class=\"colab-df-container\">\n",
              "    <div>\n",
              "<style scoped>\n",
              "    .dataframe tbody tr th:only-of-type {\n",
              "        vertical-align: middle;\n",
              "    }\n",
              "\n",
              "    .dataframe tbody tr th {\n",
              "        vertical-align: top;\n",
              "    }\n",
              "\n",
              "    .dataframe thead th {\n",
              "        text-align: right;\n",
              "    }\n",
              "</style>\n",
              "<table border=\"1\" class=\"dataframe\">\n",
              "  <thead>\n",
              "    <tr style=\"text-align: right;\">\n",
              "      <th></th>\n",
              "      <th>Crime ID</th>\n",
              "      <th>Month</th>\n",
              "      <th>Reported by</th>\n",
              "      <th>Falls within</th>\n",
              "      <th>Longitude</th>\n",
              "      <th>Latitude</th>\n",
              "      <th>Location</th>\n",
              "      <th>LSOA code</th>\n",
              "      <th>LSOA name</th>\n",
              "      <th>Crime type</th>\n",
              "      <th>Last outcome category</th>\n",
              "      <th>Context</th>\n",
              "    </tr>\n",
              "  </thead>\n",
              "  <tbody>\n",
              "    <tr>\n",
              "      <th>5779</th>\n",
              "      <td>3ddb196258d7a7e9a1a5d8795f0a65edb3922dd8aeb017...</td>\n",
              "      <td>2024-06</td>\n",
              "      <td>Durham Constabulary</td>\n",
              "      <td>Durham Constabulary</td>\n",
              "      <td>-1.551946</td>\n",
              "      <td>54.518747</td>\n",
              "      <td>On or near Chatsworth Terrace</td>\n",
              "      <td>E01012356</td>\n",
              "      <td>Darlington 014A</td>\n",
              "      <td>Violence and sexual offences</td>\n",
              "      <td>Unable to prosecute suspect</td>\n",
              "      <td>NaN</td>\n",
              "    </tr>\n",
              "    <tr>\n",
              "      <th>3180</th>\n",
              "      <td>NaN</td>\n",
              "      <td>2024-03</td>\n",
              "      <td>Durham Constabulary</td>\n",
              "      <td>Durham Constabulary</td>\n",
              "      <td>-1.383273</td>\n",
              "      <td>54.732531</td>\n",
              "      <td>On or near Queen'S Road</td>\n",
              "      <td>E01020793</td>\n",
              "      <td>County Durham 043B</td>\n",
              "      <td>Anti-social behaviour</td>\n",
              "      <td>NaN</td>\n",
              "      <td>NaN</td>\n",
              "    </tr>\n",
              "    <tr>\n",
              "      <th>1101</th>\n",
              "      <td>c0be7298c88979f578820855b5a86ddce71b4eb09dade4...</td>\n",
              "      <td>2024-02</td>\n",
              "      <td>Durham Constabulary</td>\n",
              "      <td>Durham Constabulary</td>\n",
              "      <td>-1.632966</td>\n",
              "      <td>54.835891</td>\n",
              "      <td>On or near Stobart Street</td>\n",
              "      <td>E01020604</td>\n",
              "      <td>County Durham 019A</td>\n",
              "      <td>Violence and sexual offences</td>\n",
              "      <td>Further investigation is not in the public int...</td>\n",
              "      <td>NaN</td>\n",
              "    </tr>\n",
              "    <tr>\n",
              "      <th>5443</th>\n",
              "      <td>9bb609491f4334850695826ed3ed567357f01eaed0e359...</td>\n",
              "      <td>2024-02</td>\n",
              "      <td>Durham Constabulary</td>\n",
              "      <td>Durham Constabulary</td>\n",
              "      <td>-1.559917</td>\n",
              "      <td>54.524519</td>\n",
              "      <td>On or near Powlett Street</td>\n",
              "      <td>E01035187</td>\n",
              "      <td>Darlington 016H</td>\n",
              "      <td>Violence and sexual offences</td>\n",
              "      <td>Unable to prosecute suspect</td>\n",
              "      <td>NaN</td>\n",
              "    </tr>\n",
              "    <tr>\n",
              "      <th>4554</th>\n",
              "      <td>2a7042c2b29d53e868e6a18dcd01d8ecd1144da8b9a085...</td>\n",
              "      <td>2024-04</td>\n",
              "      <td>Durham Constabulary</td>\n",
              "      <td>Durham Constabulary</td>\n",
              "      <td>-1.640042</td>\n",
              "      <td>54.633372</td>\n",
              "      <td>On or near Sunnyside Avenue</td>\n",
              "      <td>E01020841</td>\n",
              "      <td>County Durham 059F</td>\n",
              "      <td>Violence and sexual offences</td>\n",
              "      <td>Unable to prosecute suspect</td>\n",
              "      <td>NaN</td>\n",
              "    </tr>\n",
              "    <tr>\n",
              "      <th>2942</th>\n",
              "      <td>35900fc4cb6d59fa65ae3c3761e8b3e18fa7bc8f19b65c...</td>\n",
              "      <td>2024-02</td>\n",
              "      <td>Durham Constabulary</td>\n",
              "      <td>Durham Constabulary</td>\n",
              "      <td>-1.743672</td>\n",
              "      <td>54.715944</td>\n",
              "      <td>On or near Parking Area</td>\n",
              "      <td>E01020877</td>\n",
              "      <td>County Durham 046A</td>\n",
              "      <td>Shoplifting</td>\n",
              "      <td>Awaiting court outcome</td>\n",
              "      <td>NaN</td>\n",
              "    </tr>\n",
              "  </tbody>\n",
              "</table>\n",
              "</div>\n",
              "    <div class=\"colab-df-buttons\">\n",
              "\n",
              "  <div class=\"colab-df-container\">\n",
              "    <button class=\"colab-df-convert\" onclick=\"convertToInteractive('df-154ee61c-ce5b-4899-b145-5c4a2734cd7b')\"\n",
              "            title=\"Convert this dataframe to an interactive table.\"\n",
              "            style=\"display:none;\">\n",
              "\n",
              "  <svg xmlns=\"http://www.w3.org/2000/svg\" height=\"24px\" viewBox=\"0 -960 960 960\">\n",
              "    <path d=\"M120-120v-720h720v720H120Zm60-500h600v-160H180v160Zm220 220h160v-160H400v160Zm0 220h160v-160H400v160ZM180-400h160v-160H180v160Zm440 0h160v-160H620v160ZM180-180h160v-160H180v160Zm440 0h160v-160H620v160Z\"/>\n",
              "  </svg>\n",
              "    </button>\n",
              "\n",
              "  <style>\n",
              "    .colab-df-container {\n",
              "      display:flex;\n",
              "      gap: 12px;\n",
              "    }\n",
              "\n",
              "    .colab-df-convert {\n",
              "      background-color: #E8F0FE;\n",
              "      border: none;\n",
              "      border-radius: 50%;\n",
              "      cursor: pointer;\n",
              "      display: none;\n",
              "      fill: #1967D2;\n",
              "      height: 32px;\n",
              "      padding: 0 0 0 0;\n",
              "      width: 32px;\n",
              "    }\n",
              "\n",
              "    .colab-df-convert:hover {\n",
              "      background-color: #E2EBFA;\n",
              "      box-shadow: 0px 1px 2px rgba(60, 64, 67, 0.3), 0px 1px 3px 1px rgba(60, 64, 67, 0.15);\n",
              "      fill: #174EA6;\n",
              "    }\n",
              "\n",
              "    .colab-df-buttons div {\n",
              "      margin-bottom: 4px;\n",
              "    }\n",
              "\n",
              "    [theme=dark] .colab-df-convert {\n",
              "      background-color: #3B4455;\n",
              "      fill: #D2E3FC;\n",
              "    }\n",
              "\n",
              "    [theme=dark] .colab-df-convert:hover {\n",
              "      background-color: #434B5C;\n",
              "      box-shadow: 0px 1px 3px 1px rgba(0, 0, 0, 0.15);\n",
              "      filter: drop-shadow(0px 1px 2px rgba(0, 0, 0, 0.3));\n",
              "      fill: #FFFFFF;\n",
              "    }\n",
              "  </style>\n",
              "\n",
              "    <script>\n",
              "      const buttonEl =\n",
              "        document.querySelector('#df-154ee61c-ce5b-4899-b145-5c4a2734cd7b button.colab-df-convert');\n",
              "      buttonEl.style.display =\n",
              "        google.colab.kernel.accessAllowed ? 'block' : 'none';\n",
              "\n",
              "      async function convertToInteractive(key) {\n",
              "        const element = document.querySelector('#df-154ee61c-ce5b-4899-b145-5c4a2734cd7b');\n",
              "        const dataTable =\n",
              "          await google.colab.kernel.invokeFunction('convertToInteractive',\n",
              "                                                    [key], {});\n",
              "        if (!dataTable) return;\n",
              "\n",
              "        const docLinkHtml = 'Like what you see? Visit the ' +\n",
              "          '<a target=\"_blank\" href=https://colab.research.google.com/notebooks/data_table.ipynb>data table notebook</a>'\n",
              "          + ' to learn more about interactive tables.';\n",
              "        element.innerHTML = '';\n",
              "        dataTable['output_type'] = 'display_data';\n",
              "        await google.colab.output.renderOutput(dataTable, element);\n",
              "        const docLink = document.createElement('div');\n",
              "        docLink.innerHTML = docLinkHtml;\n",
              "        element.appendChild(docLink);\n",
              "      }\n",
              "    </script>\n",
              "  </div>\n",
              "\n",
              "\n",
              "<div id=\"df-afbf9c10-3a03-455d-90c7-343318f27908\">\n",
              "  <button class=\"colab-df-quickchart\" onclick=\"quickchart('df-afbf9c10-3a03-455d-90c7-343318f27908')\"\n",
              "            title=\"Suggest charts\"\n",
              "            style=\"display:none;\">\n",
              "\n",
              "<svg xmlns=\"http://www.w3.org/2000/svg\" height=\"24px\"viewBox=\"0 0 24 24\"\n",
              "     width=\"24px\">\n",
              "    <g>\n",
              "        <path d=\"M19 3H5c-1.1 0-2 .9-2 2v14c0 1.1.9 2 2 2h14c1.1 0 2-.9 2-2V5c0-1.1-.9-2-2-2zM9 17H7v-7h2v7zm4 0h-2V7h2v10zm4 0h-2v-4h2v4z\"/>\n",
              "    </g>\n",
              "</svg>\n",
              "  </button>\n",
              "\n",
              "<style>\n",
              "  .colab-df-quickchart {\n",
              "      --bg-color: #E8F0FE;\n",
              "      --fill-color: #1967D2;\n",
              "      --hover-bg-color: #E2EBFA;\n",
              "      --hover-fill-color: #174EA6;\n",
              "      --disabled-fill-color: #AAA;\n",
              "      --disabled-bg-color: #DDD;\n",
              "  }\n",
              "\n",
              "  [theme=dark] .colab-df-quickchart {\n",
              "      --bg-color: #3B4455;\n",
              "      --fill-color: #D2E3FC;\n",
              "      --hover-bg-color: #434B5C;\n",
              "      --hover-fill-color: #FFFFFF;\n",
              "      --disabled-bg-color: #3B4455;\n",
              "      --disabled-fill-color: #666;\n",
              "  }\n",
              "\n",
              "  .colab-df-quickchart {\n",
              "    background-color: var(--bg-color);\n",
              "    border: none;\n",
              "    border-radius: 50%;\n",
              "    cursor: pointer;\n",
              "    display: none;\n",
              "    fill: var(--fill-color);\n",
              "    height: 32px;\n",
              "    padding: 0;\n",
              "    width: 32px;\n",
              "  }\n",
              "\n",
              "  .colab-df-quickchart:hover {\n",
              "    background-color: var(--hover-bg-color);\n",
              "    box-shadow: 0 1px 2px rgba(60, 64, 67, 0.3), 0 1px 3px 1px rgba(60, 64, 67, 0.15);\n",
              "    fill: var(--button-hover-fill-color);\n",
              "  }\n",
              "\n",
              "  .colab-df-quickchart-complete:disabled,\n",
              "  .colab-df-quickchart-complete:disabled:hover {\n",
              "    background-color: var(--disabled-bg-color);\n",
              "    fill: var(--disabled-fill-color);\n",
              "    box-shadow: none;\n",
              "  }\n",
              "\n",
              "  .colab-df-spinner {\n",
              "    border: 2px solid var(--fill-color);\n",
              "    border-color: transparent;\n",
              "    border-bottom-color: var(--fill-color);\n",
              "    animation:\n",
              "      spin 1s steps(1) infinite;\n",
              "  }\n",
              "\n",
              "  @keyframes spin {\n",
              "    0% {\n",
              "      border-color: transparent;\n",
              "      border-bottom-color: var(--fill-color);\n",
              "      border-left-color: var(--fill-color);\n",
              "    }\n",
              "    20% {\n",
              "      border-color: transparent;\n",
              "      border-left-color: var(--fill-color);\n",
              "      border-top-color: var(--fill-color);\n",
              "    }\n",
              "    30% {\n",
              "      border-color: transparent;\n",
              "      border-left-color: var(--fill-color);\n",
              "      border-top-color: var(--fill-color);\n",
              "      border-right-color: var(--fill-color);\n",
              "    }\n",
              "    40% {\n",
              "      border-color: transparent;\n",
              "      border-right-color: var(--fill-color);\n",
              "      border-top-color: var(--fill-color);\n",
              "    }\n",
              "    60% {\n",
              "      border-color: transparent;\n",
              "      border-right-color: var(--fill-color);\n",
              "    }\n",
              "    80% {\n",
              "      border-color: transparent;\n",
              "      border-right-color: var(--fill-color);\n",
              "      border-bottom-color: var(--fill-color);\n",
              "    }\n",
              "    90% {\n",
              "      border-color: transparent;\n",
              "      border-bottom-color: var(--fill-color);\n",
              "    }\n",
              "  }\n",
              "</style>\n",
              "\n",
              "  <script>\n",
              "    async function quickchart(key) {\n",
              "      const quickchartButtonEl =\n",
              "        document.querySelector('#' + key + ' button');\n",
              "      quickchartButtonEl.disabled = true;  // To prevent multiple clicks.\n",
              "      quickchartButtonEl.classList.add('colab-df-spinner');\n",
              "      try {\n",
              "        const charts = await google.colab.kernel.invokeFunction(\n",
              "            'suggestCharts', [key], {});\n",
              "      } catch (error) {\n",
              "        console.error('Error during call to suggestCharts:', error);\n",
              "      }\n",
              "      quickchartButtonEl.classList.remove('colab-df-spinner');\n",
              "      quickchartButtonEl.classList.add('colab-df-quickchart-complete');\n",
              "    }\n",
              "    (() => {\n",
              "      let quickchartButtonEl =\n",
              "        document.querySelector('#df-afbf9c10-3a03-455d-90c7-343318f27908 button');\n",
              "      quickchartButtonEl.style.display =\n",
              "        google.colab.kernel.accessAllowed ? 'block' : 'none';\n",
              "    })();\n",
              "  </script>\n",
              "</div>\n",
              "\n",
              "    </div>\n",
              "  </div>\n"
            ],
            "application/vnd.google.colaboratory.intrinsic+json": {
              "type": "dataframe",
              "repr_error": "0"
            }
          },
          "metadata": {},
          "execution_count": 30
        }
      ]
    },
    {
      "cell_type": "code",
      "source": [
        "# Count occurrences of each crime type\n",
        "crime_counts = df_allcrime_2021['Crime type'].value_counts()\n",
        "\n",
        "print(crime_counts)\n"
      ],
      "metadata": {
        "colab": {
          "base_uri": "https://localhost:8080/"
        },
        "id": "rroRTOyu_FDS",
        "outputId": "e7fa4ce0-2672-4161-db54-a4e9acc41c43"
      },
      "execution_count": 31,
      "outputs": [
        {
          "output_type": "stream",
          "name": "stdout",
          "text": [
            "Crime type\n",
            "Violence and sexual offences    13533\n",
            "Anti-social behaviour            9303\n",
            "Criminal damage and arson        4609\n",
            "Public order                     2949\n",
            "Other theft                      1791\n",
            "Shoplifting                      1663\n",
            "Burglary                         1613\n",
            "Vehicle crime                    1220\n",
            "Other crime                       740\n",
            "Drugs                             682\n",
            "Bicycle theft                     216\n",
            "Theft from the person             197\n",
            "Possession of weapons             181\n",
            "Robbery                            92\n",
            "Name: count, dtype: int64\n"
          ]
        }
      ]
    },
    {
      "cell_type": "code",
      "source": [
        "import matplotlib.pyplot as plt\n",
        "\n",
        "# Create a bar plot\n",
        "plt.figure(figsize=(10, 6))\n",
        "crime_counts.plot(kind='bar')\n",
        "plt.title('Crime type Occurrences')\n",
        "plt.xlabel('Crime type')\n",
        "plt.ylabel('Occurrences')\n",
        "plt.show()\n"
      ],
      "metadata": {
        "colab": {
          "base_uri": "https://localhost:8080/",
          "height": 674
        },
        "id": "n4xcQZaDA5dJ",
        "outputId": "120b84c1-df26-488b-b75f-6df53bff80da"
      },
      "execution_count": 32,
      "outputs": [
        {
          "output_type": "display_data",
          "data": {
            "text/plain": [
              "<Figure size 1000x600 with 1 Axes>"
            ],
            "image/png": "[encoded data removed]"
          },
          "metadata": {}
        }
      ]
    },
    {
      "cell_type": "code",
      "source": [
        "# Count occurrences of each crime type\n",
        "crime_counts = df_allcrime_2022['Crime type'].value_counts()\n",
        "\n",
        "print(crime_counts)\n"
      ],
      "metadata": {
        "colab": {
          "base_uri": "https://localhost:8080/"
        },
        "id": "wqX4M3b-_goq",
        "outputId": "6ad30937-3876-4ca9-844c-3c768a31d2bf"
      },
      "execution_count": 33,
      "outputs": [
        {
          "output_type": "stream",
          "name": "stdout",
          "text": [
            "Crime type\n",
            "Violence and sexual offences    26975\n",
            "Anti-social behaviour           16311\n",
            "Criminal damage and arson        9446\n",
            "Public order                     6567\n",
            "Shoplifting                      4482\n",
            "Other theft                      4129\n",
            "Burglary                         2967\n",
            "Vehicle crime                    2508\n",
            "Other crime                      1703\n",
            "Drugs                            1458\n",
            "Possession of weapons             443\n",
            "Bicycle theft                     381\n",
            "Theft from the person             224\n",
            "Robbery                           196\n",
            "Name: count, dtype: int64\n"
          ]
        }
      ]
    },
    {
      "cell_type": "markdown",
      "source": [],
      "metadata": {
        "id": "1xMad1N4xv1W"
      }
    },
    {
      "cell_type": "code",
      "source": [
        "import matplotlib.pyplot as plt\n",
        "\n",
        "# Create a bar plot\n",
        "plt.figure(figsize=(10, 6))\n",
        "crime_counts.plot(kind='bar')\n",
        "plt.title('Crime type Occurrences')\n",
        "plt.xlabel('Crime type')\n",
        "plt.ylabel('Occurrences')\n",
        "plt.show()\n"
      ],
      "metadata": {
        "colab": {
          "base_uri": "https://localhost:8080/",
          "height": 674
        },
        "id": "NkCNL8fjBn9U",
        "outputId": "77ab8ee1-35a6-4d6d-a141-9a9724fd5abe"
      },
      "execution_count": 34,
      "outputs": [
        {
          "output_type": "display_data",
          "data": {
            "text/plain": [
              "<Figure size 1000x600 with 1 Axes>"
            ],
            "image/png": "[encoded data removed]"
          },
          "metadata": {}
        }
      ]
    },
    {
      "cell_type": "code",
      "source": [
        "# Count occurrences of each crime type\n",
        "crime_counts = df_allcrime_2023['Crime type'].value_counts()\n",
        "\n",
        "print(crime_counts)\n"
      ],
      "metadata": {
        "colab": {
          "base_uri": "https://localhost:8080/"
        },
        "id": "WtpcJO3y_pOc",
        "outputId": "1b9cf413-fec5-4d6b-e9b2-4ccfaa28d4af"
      },
      "execution_count": 35,
      "outputs": [
        {
          "output_type": "stream",
          "name": "stdout",
          "text": [
            "Crime type\n",
            "Violence and sexual offences    28771\n",
            "Anti-social behaviour           11291\n",
            "Criminal damage and arson        9593\n",
            "Shoplifting                      6828\n",
            "Public order                     6524\n",
            "Other theft                      4261\n",
            "Burglary                         3277\n",
            "Vehicle crime                    3018\n",
            "Other crime                      1942\n",
            "Drugs                            1477\n",
            "Possession of weapons             462\n",
            "Bicycle theft                     412\n",
            "Theft from the person             250\n",
            "Robbery                           220\n",
            "Name: count, dtype: int64\n"
          ]
        }
      ]
    },
    {
      "cell_type": "code",
      "source": [
        "import matplotlib.pyplot as plt\n",
        "\n",
        "# Create a bar plot\n",
        "plt.figure(figsize=(10, 6))\n",
        "crime_counts.plot(kind='bar')\n",
        "plt.title('Crime type Occurrences')\n",
        "plt.xlabel('Crime type')\n",
        "plt.ylabel('Occurrences')\n",
        "plt.show()\n"
      ],
      "metadata": {
        "colab": {
          "base_uri": "https://localhost:8080/",
          "height": 674
        },
        "id": "2LA69vyzBslp",
        "outputId": "50c9d1ab-cc58-4b2f-dc75-2aa02a16e197"
      },
      "execution_count": 36,
      "outputs": [
        {
          "output_type": "display_data",
          "data": {
            "text/plain": [
              "<Figure size 1000x600 with 1 Axes>"
            ],
            "image/png": "[encoded data removed]"
          },
          "metadata": {}
        }
      ]
    },
    {
      "cell_type": "code",
      "source": [
        "# Count occurrences of each crime type\n",
        "crime_counts = df_allcrime_2024['Crime type'].value_counts()\n",
        "\n",
        "print(crime_counts)\n"
      ],
      "metadata": {
        "colab": {
          "base_uri": "https://localhost:8080/"
        },
        "id": "wnT4b3hY_u70",
        "outputId": "e046cdb4-2e4e-40b0-edbc-8e40c353b708"
      },
      "execution_count": 37,
      "outputs": [
        {
          "output_type": "stream",
          "name": "stdout",
          "text": [
            "Crime type\n",
            "Violence and sexual offences    12905\n",
            "Anti-social behaviour            6109\n",
            "Criminal damage and arson        4343\n",
            "Shoplifting                      3588\n",
            "Public order                     2348\n",
            "Other theft                      1828\n",
            "Burglary                         1638\n",
            "Vehicle crime                    1542\n",
            "Other crime                       960\n",
            "Drugs                             635\n",
            "Possession of weapons             296\n",
            "Bicycle theft                     193\n",
            "Robbery                           117\n",
            "Theft from the person              88\n",
            "Name: count, dtype: int64\n"
          ]
        }
      ]
    },
    {
      "cell_type": "code",
      "source": [
        "import matplotlib.pyplot as plt\n",
        "\n",
        "# Create a bar plot\n",
        "plt.figure(figsize=(10, 6))\n",
        "crime_counts.plot(kind='bar')\n",
        "plt.title('Crime type Occurrences')\n",
        "plt.xlabel('Crime type')\n",
        "plt.ylabel('Occurrences')\n",
        "plt.show()\n"
      ],
      "metadata": {
        "colab": {
          "base_uri": "https://localhost:8080/",
          "height": 674
        },
        "id": "n-N0PjJdBvf8",
        "outputId": "9f02ac56-ad77-4aeb-f40e-b8401574f6a8"
      },
      "execution_count": 38,
      "outputs": [
        {
          "output_type": "display_data",
          "data": {
            "text/plain": [
              "<Figure size 1000x600 with 1 Axes>"
            ],
            "image/png": "[encoded data removed]"
          },
          "metadata": {}
        }
      ]
    },
    {
      "cell_type": "code",
      "source": [
        "df_allcrime_2021[['Latitude', 'Longitude']] = df_allcrime_2021[['Latitude', 'Longitude']].astype(float)\n"
      ],
      "metadata": {
        "id": "3UoAN0qtIlui"
      },
      "execution_count": 39,
      "outputs": []
    },
    {
      "cell_type": "code",
      "source": [
        "print(df_allcrime_2021.head())\n"
      ],
      "metadata": {
        "colab": {
          "base_uri": "https://localhost:8080/"
        },
        "id": "_8t2sCsQAEry",
        "outputId": "450e85a4-002f-4862-b384-b5d3c36ad08d"
      },
      "execution_count": 40,
      "outputs": [
        {
          "output_type": "stream",
          "name": "stdout",
          "text": [
            "                                            Crime ID    Month  \\\n",
            "0                                                NaN  2021-07   \n",
            "1                                                NaN  2021-07   \n",
            "2  37c490580c2cca8ff2a82f7c6dbd391530dfb9b2202b78...  2021-07   \n",
            "3  0139423975699fc1d14f551657ec9e17db39336512bc25...  2021-07   \n",
            "4                                                NaN  2021-07   \n",
            "\n",
            "           Reported by         Falls within  Longitude   Latitude  \\\n",
            "0  Durham Constabulary  Durham Constabulary  -1.737046  54.907449   \n",
            "1  Durham Constabulary  Durham Constabulary  -1.727867  54.906261   \n",
            "2  Durham Constabulary  Durham Constabulary  -1.735064  54.895727   \n",
            "3  Durham Constabulary  Durham Constabulary  -1.727867  54.906261   \n",
            "4  Durham Constabulary  Durham Constabulary  -1.724500  54.906065   \n",
            "\n",
            "                  Location  LSOA code           LSOA name  \\\n",
            "0   On or near Valley View  E01020634  County Durham 001A   \n",
            "1     On or near Park View  E01020634  County Durham 001A   \n",
            "2   On or near The Meadows  E01020634  County Durham 001A   \n",
            "3     On or near Park View  E01020634  County Durham 001A   \n",
            "4  On or near Front Street  E01020635  County Durham 001B   \n",
            "\n",
            "                     Crime type  \\\n",
            "0         Anti-social behaviour   \n",
            "1         Anti-social behaviour   \n",
            "2                   Other theft   \n",
            "3  Violence and sexual offences   \n",
            "4         Anti-social behaviour   \n",
            "\n",
            "                           Last outcome category  Context  \n",
            "0                                            NaN      NaN  \n",
            "1                                            NaN      NaN  \n",
            "2  Investigation complete; no suspect identified      NaN  \n",
            "3                    Unable to prosecute suspect      NaN  \n",
            "4                                            NaN      NaN  \n"
          ]
        }
      ]
    },
    {
      "cell_type": "code",
      "source": [
        "avg_lat = df_allcrime_2021['Latitude'].mean()\n",
        "avg_lon = df_allcrime_2021['Longitude'].mean()\n",
        "map_crimes = folium.Map(location=[avg_lat, avg_lon], zoom_start=13)"
      ],
      "metadata": {
        "id": "KEGjYZQ7Jw-q"
      },
      "execution_count": 41,
      "outputs": []
    },
    {
      "cell_type": "code",
      "source": [
        "for lat, lon in zip(df_allcrime_2021['Latitude'], df_allcrime_2021['Longitude']):\n",
        "    folium.CircleMarker([lat, lon],\n",
        "                        radius=5,\n",
        "                        color='blue',\n",
        "                        fill=True,\n",
        "                        fill_color='blue').add_to(map_crimes)"
      ],
      "metadata": {
        "id": "uu3EEnnXKX0S"
      },
      "execution_count": 42,
      "outputs": []
    },
    {
      "cell_type": "code",
      "source": [
        "map_crimes.save('crimes_map.html')"
      ],
      "metadata": {
        "id": "974Ki0JWKsvL"
      },
      "execution_count": 43,
      "outputs": []
    },
    {
      "cell_type": "code",
      "source": [
        "marker_colors = ['red', 'blue', 'green', 'purple', 'orange']"
      ],
      "metadata": {
        "id": "CNo20wdzWtsp"
      },
      "execution_count": 44,
      "outputs": []
    },
    {
      "cell_type": "code",
      "source": [
        "for index, row in df_allcrime_2021.iterrows():\n",
        "    color = marker_colors[index % len(marker_colors)]  # Cycle through colors\n",
        "    folium.CircleMarker(\n",
        "        location=[row['Latitude'], row['Longitude']],\n",
        "        radius=5,\n",
        "        color=color,\n",
        "        fill=True,\n",
        "        fill_color=color,\n",
        "        fill_opacity=0.6,\n",
        "        popup=f\"Crime at {row['Location']}\",\n",
        "    ).add_to(map_crimes)"
      ],
      "metadata": {
        "id": "qvDTd0pJWvo7"
      },
      "execution_count": 45,
      "outputs": []
    },
    {
      "cell_type": "code",
      "source": [
        "map_crimes.save('crimes_map1.html')"
      ],
      "metadata": {
        "id": "NTg9L716XT0U"
      },
      "execution_count": 46,
      "outputs": []
    },
    {
      "cell_type": "code",
      "source": [
        "from folium import Icon"
      ],
      "metadata": {
        "id": "12QTdFR2YysN"
      },
      "execution_count": 47,
      "outputs": []
    },
    {
      "cell_type": "code",
      "source": [
        "custom_icon = Icon(icon_url=\"path/to/icon.png\", icon_size=(20, 20))\n"
      ],
      "metadata": {
        "id": "LQTPohDHYsti"
      },
      "execution_count": 48,
      "outputs": []
    },
    {
      "cell_type": "code",
      "source": [
        "folium.Marker(\n",
        "    location=[row['Latitude'], row['Longitude']],\n",
        "    icon=custom_icon,\n",
        "    popup=\"Crime type\",\n",
        ").add_to(map_crimes)"
      ],
      "metadata": {
        "colab": {
          "base_uri": "https://localhost:8080/"
        },
        "id": "BOGh_iabY3Nj",
        "outputId": "d9741ecc-bf4d-4f49-a24d-72397aa83d15"
      },
      "execution_count": 49,
      "outputs": [
        {
          "output_type": "execute_result",
          "data": {
            "text/plain": [
              "<folium.map.Marker at 0x7e7e9a2132b0>"
            ]
          },
          "metadata": {},
          "execution_count": 49
        }
      ]
    },
    {
      "cell_type": "code",
      "source": [
        "folium.CircleMarker(\n",
        "    location=[row['Latitude'], row['Longitude']],\n",
        "    radius=5,\n",
        "    color='blue',\n",
        "    fill=True,\n",
        "    fill_color='blue',\n",
        "    fill_opacity=0.6,\n",
        "    popup=\"Crime Type: Theft | Date: 08/18/2021\",\n",
        ").add_to(map_crimes)"
      ],
      "metadata": {
        "colab": {
          "base_uri": "https://localhost:8080/"
        },
        "collapsed": true,
        "id": "IFUB-HvJaJzL",
        "outputId": "3cdfb175-35f3-41c5-e2b3-efbcd590bf4e"
      },
      "execution_count": 50,
      "outputs": [
        {
          "output_type": "execute_result",
          "data": {
            "text/plain": [
              "<folium.vector_layers.CircleMarker at 0x7e7e9a212110>"
            ]
          },
          "metadata": {},
          "execution_count": 50
        }
      ]
    },
    {
      "cell_type": "code",
      "source": [
        "map_crimes.save('crimes_map2.html')"
      ],
      "metadata": {
        "id": "1W4J3sA9aozk"
      },
      "execution_count": 51,
      "outputs": []
    },
    {
      "cell_type": "code",
      "source": [
        "pip install folium pandas geopandas"
      ],
      "metadata": {
        "colab": {
          "base_uri": "https://localhost:8080/"
        },
        "collapsed": true,
        "id": "z1VDlt_FfB5S",
        "outputId": "908f3772-9149-4a57-c84f-b9da2b3f98c5"
      },
      "execution_count": 52,
      "outputs": [
        {
          "output_type": "stream",
          "name": "stdout",
          "text": [
            "Requirement already satisfied: folium in /usr/local/lib/python3.10/dist-packages (0.17.0)\n",
            "Requirement already satisfied: pandas in /usr/local/lib/python3.10/dist-packages (2.2.2)\n",
            "Requirement already satisfied: geopandas in /usr/local/lib/python3.10/dist-packages (1.0.1)\n",
            "Requirement already satisfied: branca>=0.6.0 in /usr/local/lib/python3.10/dist-packages (from folium) (0.8.0)\n",
            "Requirement already satisfied: jinja2>=2.9 in /usr/local/lib/python3.10/dist-packages (from folium) (3.1.4)\n",
            "Requirement already satisfied: numpy in /usr/local/lib/python3.10/dist-packages (from folium) (1.26.4)\n",
            "Requirement already satisfied: requests in /usr/local/lib/python3.10/dist-packages (from folium) (2.32.3)\n",
            "Requirement already satisfied: xyzservices in /usr/local/lib/python3.10/dist-packages (from folium) (2024.9.0)\n",
            "Requirement already satisfied: python-dateutil>=2.8.2 in /usr/local/lib/python3.10/dist-packages (from pandas) (2.8.2)\n",
            "Requirement already satisfied: pytz>=2020.1 in /usr/local/lib/python3.10/dist-packages (from pandas) (2024.2)\n",
            "Requirement already satisfied: tzdata>=2022.7 in /usr/local/lib/python3.10/dist-packages (from pandas) (2024.2)\n",
            "Requirement already satisfied: pyogrio>=0.7.2 in /usr/local/lib/python3.10/dist-packages (from geopandas) (0.10.0)\n",
            "Requirement already satisfied: packaging in /usr/local/lib/python3.10/dist-packages (from geopandas) (24.1)\n",
            "Requirement already satisfied: pyproj>=3.3.0 in /usr/local/lib/python3.10/dist-packages (from geopandas) (3.7.0)\n",
            "Requirement already satisfied: shapely>=2.0.0 in /usr/local/lib/python3.10/dist-packages (from geopandas) (2.0.6)\n",
            "Requirement already satisfied: MarkupSafe>=2.0 in /usr/local/lib/python3.10/dist-packages (from jinja2>=2.9->folium) (3.0.2)\n",
            "Requirement already satisfied: certifi in /usr/local/lib/python3.10/dist-packages (from pyogrio>=0.7.2->geopandas) (2024.8.30)\n",
            "Requirement already satisfied: six>=1.5 in /usr/local/lib/python3.10/dist-packages (from python-dateutil>=2.8.2->pandas) (1.16.0)\n",
            "Requirement already satisfied: charset-normalizer<4,>=2 in /usr/local/lib/python3.10/dist-packages (from requests->folium) (3.4.0)\n",
            "Requirement already satisfied: idna<4,>=2.5 in /usr/local/lib/python3.10/dist-packages (from requests->folium) (3.10)\n",
            "Requirement already satisfied: urllib3<3,>=1.21.1 in /usr/local/lib/python3.10/dist-packages (from requests->folium) (2.2.3)\n"
          ]
        }
      ]
    },
    {
      "cell_type": "code",
      "source": [
        "from geopandas import GeoDataFrame, GeoSeries\n"
      ],
      "metadata": {
        "id": "VSylngqWfH4n"
      },
      "execution_count": 53,
      "outputs": []
    },
    {
      "cell_type": "markdown",
      "source": [
        "Modify the code to filter the data by specific types of crimes or time periods."
      ],
      "metadata": {
        "id": "X9VtTONPP69q"
      }
    },
    {
      "cell_type": "code",
      "source": [
        "from datetime import datetime"
      ],
      "metadata": {
        "id": "RiEP2F9kRIE-"
      },
      "execution_count": 54,
      "outputs": []
    },
    {
      "cell_type": "code",
      "source": [
        "start_date = datetime.strptime('01-01-2020', '%m-%d-%Y')\n",
        "end_date = datetime.strptime('12-31-2020', '%m-%d-%Y')"
      ],
      "metadata": {
        "id": "YbiDXYh9jNJR"
      },
      "execution_count": 55,
      "outputs": []
    },
    {
      "cell_type": "code",
      "source": [
        "df_allcrime_2022['Month'] = pd.to_datetime(df_allcrime_2022['Month'])"
      ],
      "metadata": {
        "id": "Q9O9xeZfkhFh"
      },
      "execution_count": 56,
      "outputs": []
    },
    {
      "cell_type": "code",
      "source": [
        "filtered_df = df_allcrime_2022[(df_allcrime_2022['Crime type'] == 'Burglary') &\n",
        "                 (df_allcrime_2022['Month'].dt.date.between(start_date.date(), end_date.date()))]"
      ],
      "metadata": {
        "id": "NHUsVBFrknqZ"
      },
      "execution_count": 57,
      "outputs": []
    },
    {
      "cell_type": "code",
      "source": [
        "print(filtered_df.columns)"
      ],
      "metadata": {
        "colab": {
          "base_uri": "https://localhost:8080/"
        },
        "id": "1ppmdsCxlLwg",
        "outputId": "e0e5be24-69a3-4121-db6d-c7b1c4d4f748"
      },
      "execution_count": 58,
      "outputs": [
        {
          "output_type": "stream",
          "name": "stdout",
          "text": [
            "Index(['Crime ID', 'Month', 'Reported by', 'Falls within', 'Longitude',\n",
            "       'Latitude', 'Location', 'LSOA code', 'LSOA name', 'Crime type',\n",
            "       'Last outcome category', 'Context'],\n",
            "      dtype='object')\n"
          ]
        }
      ]
    },
    {
      "cell_type": "code",
      "source": [
        "gdf_filtered = GeoDataFrame(filtered_df, geometry=GeoSeries([Point(xy) for xy in zip(filtered_df.Longitude, filtered_df.Latitude)]))"
      ],
      "metadata": {
        "id": "1J6h_LYeku7l"
      },
      "execution_count": 59,
      "outputs": []
    },
    {
      "cell_type": "code",
      "source": [
        "if gdf_filtered.empty:\n",
        "  default_location = [51.5074, 0.1278]\n",
        "map_filtered_crime = folium.Map(location=default_location, zoom_start=13)"
      ],
      "metadata": {
        "id": "A0fipuK-q8Ne"
      },
      "execution_count": 60,
      "outputs": []
    },
    {
      "cell_type": "code",
      "source": [
        "import numpy as np\n"
      ],
      "metadata": {
        "id": "OBDmyUDYtXJ1"
      },
      "execution_count": 61,
      "outputs": []
    },
    {
      "cell_type": "code",
      "source": [
        "print(df_allcrime_2022.isnull().sum())"
      ],
      "metadata": {
        "colab": {
          "base_uri": "https://localhost:8080/"
        },
        "id": "cm2up6eOwkgD",
        "outputId": "10b6b814-2e9d-41a4-92d3-4b242ae9ac41"
      },
      "execution_count": 62,
      "outputs": [
        {
          "output_type": "stream",
          "name": "stdout",
          "text": [
            "Crime ID                 16311\n",
            "Month                        0\n",
            "Reported by                  0\n",
            "Falls within                 0\n",
            "Longitude                    0\n",
            "Latitude                     0\n",
            "Location                     0\n",
            "LSOA code                    1\n",
            "LSOA name                    1\n",
            "Crime type                   0\n",
            "Last outcome category    16311\n",
            "Context                  77790\n",
            "dtype: int64\n"
          ]
        }
      ]
    },
    {
      "cell_type": "code",
      "source": [
        "df_cleaned = df_allcrime_2022.dropna()"
      ],
      "metadata": {
        "id": "1uIf7SAny5FJ"
      },
      "execution_count": 63,
      "outputs": []
    }
  ]
}